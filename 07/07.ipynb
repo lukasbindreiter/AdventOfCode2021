{
 "cells": [
  {
   "cell_type": "code",
   "execution_count": 1,
   "id": "following-liquid",
   "metadata": {},
   "outputs": [],
   "source": [
    "import numpy as np\n",
    "import webbrowser\n",
    "from aocd.models import Puzzle\n",
    "import re\n",
    "puzzle = Puzzle(year=2021, day=7)"
   ]
  },
  {
   "cell_type": "code",
   "execution_count": 2,
   "id": "weekly-calvin",
   "metadata": {},
   "outputs": [],
   "source": [
    "webbrowser.open(puzzle.url);"
   ]
  },
  {
   "cell_type": "markdown",
   "id": "bizarre-responsibility",
   "metadata": {},
   "source": [
    "## Part 1"
   ]
  },
  {
   "cell_type": "code",
   "execution_count": 2,
   "id": "suburban-yacht",
   "metadata": {},
   "outputs": [],
   "source": [
    "input_data = \"16,1,2,0,4,2,7,1,2,14\"\n",
    "input_data = puzzle.input_data\n",
    "numbers = np.asarray(re.findall(\"\\d+\", input_data)).astype(int)"
   ]
  },
  {
   "cell_type": "code",
   "execution_count": 39,
   "id": "mental-jewelry",
   "metadata": {},
   "outputs": [
    {
     "data": {
      "text/plain": [
       "343441"
      ]
     },
     "execution_count": 39,
     "metadata": {},
     "output_type": "execute_result"
    }
   ],
   "source": [
    "result = np.abs(numbers - np.median(numbers).astype(int)).sum()\n",
    "result"
   ]
  },
  {
   "cell_type": "code",
   "execution_count": 19,
   "id": "rubber-width",
   "metadata": {},
   "outputs": [
    {
     "name": "stdout",
     "output_type": "stream",
     "text": [
      "\u001b[32mThat's the right answer!  You are one gold star closer to finding the sleigh keys. [Continue to Part Two]\u001b[0m\n"
     ]
    }
   ],
   "source": [
    "puzzle.answer_a = result"
   ]
  },
  {
   "cell_type": "markdown",
   "id": "shared-indian",
   "metadata": {},
   "source": [
    "## Part 2"
   ]
  },
  {
   "cell_type": "code",
   "execution_count": 6,
   "id": "subtle-fiber",
   "metadata": {},
   "outputs": [],
   "source": [
    "fuels = []\n",
    "\n",
    "# we probably only have to search somewhere near the mean of the values\n",
    "mean = np.mean(numbers).astype(int)\n",
    "for pos in [np.floor(mean), np.ceil(mean)]:\n",
    "    distances = np.abs(numbers - pos)\n",
    "    fuel = distances * (distances + 1) / 2  # gauss\n",
    "    fuels.append(fuel.sum())"
   ]
  },
  {
   "cell_type": "code",
   "execution_count": 19,
   "id": "moderate-entry",
   "metadata": {},
   "outputs": [
    {
     "data": {
      "text/plain": [
       "98925151"
      ]
     },
     "execution_count": 19,
     "metadata": {},
     "output_type": "execute_result"
    }
   ],
   "source": [
    "result = int(min(fuels))\n",
    "result"
   ]
  },
  {
   "cell_type": "code",
   "execution_count": 66,
   "id": "architectural-cruise",
   "metadata": {},
   "outputs": [
    {
     "name": "stdout",
     "output_type": "stream",
     "text": [
      "\u001b[32mThat's the right answer!  You are one gold star closer to finding the sleigh keys.You have completed Day 7! You can [Shareon\n",
      "  Twitter\n",
      "Mastodon] this victory or [Return to Your Advent Calendar].\u001b[0m\n"
     ]
    }
   ],
   "source": [
    "puzzle.answer_b = result"
   ]
  }
 ],
 "metadata": {
  "kernelspec": {
   "display_name": "DataScience",
   "language": "python",
   "name": "datascience"
  },
  "language_info": {
   "codemirror_mode": {
    "name": "ipython",
    "version": 3
   },
   "file_extension": ".py",
   "mimetype": "text/x-python",
   "name": "python",
   "nbconvert_exporter": "python",
   "pygments_lexer": "ipython3",
   "version": "3.9.1"
  }
 },
 "nbformat": 4,
 "nbformat_minor": 5
}
