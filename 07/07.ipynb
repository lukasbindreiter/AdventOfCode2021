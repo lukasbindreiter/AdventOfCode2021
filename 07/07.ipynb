{
 "cells": [
  {
   "cell_type": "code",
   "execution_count": 1,
   "id": "double-prayer",
   "metadata": {},
   "outputs": [],
   "source": [
    "import numpy as np\n",
    "import webbrowser\n",
    "from aocd.models import Puzzle\n",
    "import re\n",
    "puzzle = Puzzle(year=2021, day=7)"
   ]
  },
  {
   "cell_type": "code",
   "execution_count": 2,
   "id": "coupled-spanish",
   "metadata": {},
   "outputs": [],
   "source": [
    "webbrowser.open(puzzle.url);"
   ]
  },
  {
   "cell_type": "markdown",
   "id": "satisfactory-checklist",
   "metadata": {},
   "source": [
    "## Part 1"
   ]
  },
  {
   "cell_type": "code",
   "execution_count": 38,
   "id": "aggregate-cache",
   "metadata": {},
   "outputs": [],
   "source": [
    "input_data = \"16,1,2,0,4,2,7,1,2,14\"\n",
    "input_data = puzzle.input_data\n",
    "numbers = np.asarray(re.findall(\"\\d+\", input_data)).astype(int)"
   ]
  },
  {
   "cell_type": "code",
   "execution_count": 39,
   "id": "terminal-valley",
   "metadata": {},
   "outputs": [
    {
     "data": {
      "text/plain": [
       "343441"
      ]
     },
     "execution_count": 39,
     "metadata": {},
     "output_type": "execute_result"
    }
   ],
   "source": [
    "result = np.abs(numbers - np.median(numbers).astype(int)).sum()\n",
    "result"
   ]
  },
  {
   "cell_type": "code",
   "execution_count": 19,
   "id": "overhead-highland",
   "metadata": {},
   "outputs": [
    {
     "name": "stdout",
     "output_type": "stream",
     "text": [
      "\u001b[32mThat's the right answer!  You are one gold star closer to finding the sleigh keys. [Continue to Part Two]\u001b[0m\n"
     ]
    }
   ],
   "source": [
    "puzzle.answer_a = result"
   ]
  },
  {
   "cell_type": "markdown",
   "id": "bored-providence",
   "metadata": {},
   "source": [
    "## Part 2"
   ]
  },
  {
   "cell_type": "code",
   "execution_count": 77,
   "id": "referenced-entrance",
   "metadata": {},
   "outputs": [],
   "source": [
    "min_fuel = None\n",
    "\n",
    "# we probably only have to search somewhere near the mean of the values\n",
    "mean = np.mean(numbers).astype(int)\n",
    "for pos in range(mean - 10, mean + 10):\n",
    "    distances = np.abs(numbers - pos)\n",
    "    fuels = np.array([sum((i + 1) for i in range(dist)) for dist in distances])\n",
    "    fuel = fuels.sum()\n",
    "    if min_fuel is None or fuel < min_fuel[0]:\n",
    "        min_fuel = (fuel, pos)"
   ]
  },
  {
   "cell_type": "code",
   "execution_count": 78,
   "id": "caring-wealth",
   "metadata": {},
   "outputs": [
    {
     "data": {
      "text/plain": [
       "98925151"
      ]
     },
     "execution_count": 78,
     "metadata": {},
     "output_type": "execute_result"
    }
   ],
   "source": [
    "result = min_fuel[0]\n",
    "result"
   ]
  },
  {
   "cell_type": "code",
   "execution_count": 66,
   "id": "honey-dominican",
   "metadata": {},
   "outputs": [
    {
     "name": "stdout",
     "output_type": "stream",
     "text": [
      "\u001b[32mThat's the right answer!  You are one gold star closer to finding the sleigh keys.You have completed Day 7! You can [Shareon\n",
      "  Twitter\n",
      "Mastodon] this victory or [Return to Your Advent Calendar].\u001b[0m\n"
     ]
    }
   ],
   "source": [
    "puzzle.answer_b = result"
   ]
  }
 ],
 "metadata": {
  "kernelspec": {
   "display_name": "DataScience",
   "language": "python",
   "name": "datascience"
  },
  "language_info": {
   "codemirror_mode": {
    "name": "ipython",
    "version": 3
   },
   "file_extension": ".py",
   "mimetype": "text/x-python",
   "name": "python",
   "nbconvert_exporter": "python",
   "pygments_lexer": "ipython3",
   "version": "3.9.1"
  }
 },
 "nbformat": 4,
 "nbformat_minor": 5
}
