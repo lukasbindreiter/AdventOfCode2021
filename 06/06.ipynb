{
 "cells": [
  {
   "cell_type": "code",
   "execution_count": 1,
   "id": "opposed-asian",
   "metadata": {},
   "outputs": [],
   "source": [
    "import numpy as np\n",
    "import webbrowser\n",
    "from aocd.models import Puzzle\n",
    "import re\n",
    "puzzle = Puzzle(year=2021, day=6)"
   ]
  },
  {
   "cell_type": "code",
   "execution_count": 2,
   "id": "mobile-girlfriend",
   "metadata": {},
   "outputs": [],
   "source": [
    "webbrowser.open(puzzle.url);"
   ]
  },
  {
   "cell_type": "markdown",
   "id": "permanent-begin",
   "metadata": {},
   "source": [
    "## Part 1"
   ]
  },
  {
   "cell_type": "code",
   "execution_count": 33,
   "id": "desperate-contact",
   "metadata": {},
   "outputs": [],
   "source": [
    "input_data = \"3,4,3,1,2\"\n",
    "input_data = puzzle.input_data\n",
    "numbers = np.asarray(re.findall(\"\\d+\", input_data)).astype(int)"
   ]
  },
  {
   "cell_type": "code",
   "execution_count": 36,
   "id": "finished-fantasy",
   "metadata": {},
   "outputs": [],
   "source": [
    "def timers_from_input(numbers):\n",
    "    timers = np.zeros(9, dtype=int)\n",
    "    for n in numbers:\n",
    "        timers[n] += 1\n",
    "    return timers"
   ]
  },
  {
   "cell_type": "code",
   "execution_count": null,
   "id": "romance-engineering",
   "metadata": {},
   "outputs": [],
   "source": []
  },
  {
   "cell_type": "code",
   "execution_count": 37,
   "id": "internal-landscape",
   "metadata": {},
   "outputs": [],
   "source": [
    "def simulate_day(day):\n",
    "    next_day = np.zeros_like(day)\n",
    "    \n",
    "    for i in range(len(day) - 1):\n",
    "        next_day[i] = day[i + 1]\n",
    "    \n",
    "    # reset fish\n",
    "    next_day[6] += day[0]\n",
    "    # spawn new fish\n",
    "    next_day[8] += day[0]\n",
    "    \n",
    "    return next_day"
   ]
  },
  {
   "cell_type": "code",
   "execution_count": 50,
   "id": "continuing-flesh",
   "metadata": {},
   "outputs": [],
   "source": [
    "def simulate(n_days):\n",
    "    timers = timers_from_input(numbers)\n",
    "    for i in range(n_days):\n",
    "        timers = simulate_day(timers)\n",
    "    return timers.sum()"
   ]
  },
  {
   "cell_type": "code",
   "execution_count": 47,
   "id": "engaged-release",
   "metadata": {},
   "outputs": [
    {
     "data": {
      "text/plain": [
       "366057"
      ]
     },
     "execution_count": 47,
     "metadata": {},
     "output_type": "execute_result"
    }
   ],
   "source": [
    "result = simulate(80)\n",
    "result"
   ]
  },
  {
   "cell_type": "code",
   "execution_count": 44,
   "id": "saved-sister",
   "metadata": {},
   "outputs": [
    {
     "name": "stdout",
     "output_type": "stream",
     "text": [
      "\u001b[32mThat's the right answer!  You are one gold star closer to finding the sleigh keys. [Continue to Part Two]\u001b[0m\n"
     ]
    }
   ],
   "source": [
    "puzzle.answer_a = result"
   ]
  },
  {
   "cell_type": "markdown",
   "id": "super-pattern",
   "metadata": {},
   "source": [
    "## Part 2"
   ]
  },
  {
   "cell_type": "code",
   "execution_count": 51,
   "id": "technological-sending",
   "metadata": {},
   "outputs": [
    {
     "data": {
      "text/plain": [
       "1653559299811"
      ]
     },
     "execution_count": 51,
     "metadata": {},
     "output_type": "execute_result"
    }
   ],
   "source": [
    "result = simulate(256)\n",
    "result"
   ]
  },
  {
   "cell_type": "code",
   "execution_count": 52,
   "id": "approved-brazilian",
   "metadata": {},
   "outputs": [
    {
     "name": "stdout",
     "output_type": "stream",
     "text": [
      "\u001b[32mThat's the right answer!  You are one gold star closer to finding the sleigh keys.You have completed Day 6! You can [Shareon\n",
      "  Twitter\n",
      "Mastodon] this victory or [Return to Your Advent Calendar].\u001b[0m\n"
     ]
    }
   ],
   "source": [
    "puzzle.answer_b = result"
   ]
  }
 ],
 "metadata": {
  "kernelspec": {
   "display_name": "grasp-universe",
   "language": "python",
   "name": "grasp-universe"
  },
  "language_info": {
   "codemirror_mode": {
    "name": "ipython",
    "version": 3
   },
   "file_extension": ".py",
   "mimetype": "text/x-python",
   "name": "python",
   "nbconvert_exporter": "python",
   "pygments_lexer": "ipython3",
   "version": "3.8.5"
  }
 },
 "nbformat": 4,
 "nbformat_minor": 5
}
