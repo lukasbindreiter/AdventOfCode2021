{
 "cells": [
  {
   "cell_type": "code",
   "execution_count": 9,
   "id": "boolean-friday",
   "metadata": {},
   "outputs": [],
   "source": [
    "import numpy as np\n",
    "import webbrowser\n",
    "from aocd.models import Puzzle\n",
    "import re\n",
    "import itertools\n",
    "from scipy.ndimage.filters import minimum_filter\n",
    "from scipy.ndimage import label\n",
    "import matplotlib.pyplot as plt\n",
    "from collections import defaultdict\n",
    "%matplotlib inline\n",
    "puzzle = Puzzle(year=2021, day=12)"
   ]
  },
  {
   "cell_type": "code",
   "execution_count": 2,
   "id": "cubic-highlight",
   "metadata": {},
   "outputs": [],
   "source": [
    "webbrowser.open(puzzle.url);"
   ]
  },
  {
   "cell_type": "markdown",
   "id": "reverse-cambodia",
   "metadata": {},
   "source": [
    "## Part 1"
   ]
  },
  {
   "cell_type": "code",
   "execution_count": 44,
   "id": "through-moldova",
   "metadata": {},
   "outputs": [],
   "source": [
    "input_data = \"\"\"\n",
    "start-A\n",
    "start-b\n",
    "A-c\n",
    "A-b\n",
    "b-d\n",
    "A-end\n",
    "b-end\n",
    "\"\"\".strip()"
   ]
  },
  {
   "cell_type": "code",
   "execution_count": 53,
   "id": "military-communication",
   "metadata": {},
   "outputs": [],
   "source": [
    "input_data = \"\"\"\n",
    "dc-end\n",
    "HN-start\n",
    "start-kj\n",
    "dc-start\n",
    "dc-HN\n",
    "LN-dc\n",
    "HN-end\n",
    "kj-sa\n",
    "kj-HN\n",
    "kj-dc\n",
    "\"\"\".strip()"
   ]
  },
  {
   "cell_type": "code",
   "execution_count": 57,
   "id": "cleared-instrumentation",
   "metadata": {},
   "outputs": [],
   "source": [
    "input_data = puzzle.input_data"
   ]
  },
  {
   "cell_type": "code",
   "execution_count": 58,
   "id": "exact-woman",
   "metadata": {},
   "outputs": [],
   "source": [
    "graph = defaultdict(set)\n",
    "for line in input_data.split():\n",
    "    a, b = line.split(\"-\")\n",
    "    graph[a].add(b)\n",
    "    graph[b].add(a)\n",
    "\n",
    "graph = {**graph}"
   ]
  },
  {
   "cell_type": "code",
   "execution_count": 41,
   "id": "bottom-thing",
   "metadata": {},
   "outputs": [],
   "source": [
    "paths = []\n",
    "\n",
    "def walk(path):\n",
    "    global paths\n",
    "    for next_node in graph[path[-1]]:\n",
    "        if next_node == \"start\":\n",
    "            continue\n",
    "        elif next_node == \"end\":\n",
    "            path.append(next_node)\n",
    "            paths.append(path[:])\n",
    "            path.pop()\n",
    "        elif next_node.isupper() or next_node not in path:\n",
    "                path.append(next_node)\n",
    "                walk(path)\n",
    "                path.pop()\n",
    "                \n",
    "\n",
    "walk([\"start\"])"
   ]
  },
  {
   "cell_type": "code",
   "execution_count": 42,
   "id": "scientific-creek",
   "metadata": {},
   "outputs": [
    {
     "data": {
      "text/plain": [
       "5576"
      ]
     },
     "execution_count": 42,
     "metadata": {},
     "output_type": "execute_result"
    }
   ],
   "source": [
    "result = len(paths)\n",
    "result"
   ]
  },
  {
   "cell_type": "code",
   "execution_count": 43,
   "id": "mechanical-upper",
   "metadata": {},
   "outputs": [
    {
     "name": "stdout",
     "output_type": "stream",
     "text": [
      "\u001b[32mThat's the right answer!  You are one gold star closer to finding the sleigh keys. [Continue to Part Two]\u001b[0m\n"
     ]
    }
   ],
   "source": [
    "puzzle.answer_a = result"
   ]
  },
  {
   "cell_type": "markdown",
   "id": "loose-picnic",
   "metadata": {},
   "source": [
    "## Part 2"
   ]
  },
  {
   "cell_type": "code",
   "execution_count": 63,
   "id": "alike-client",
   "metadata": {},
   "outputs": [],
   "source": [
    "paths = []\n",
    "\n",
    "def walk(path, revisit_small = True):\n",
    "    global paths\n",
    "    for next_node in graph[path[-1]]:\n",
    "        if next_node == \"start\":\n",
    "            continue\n",
    "        elif next_node == \"end\":\n",
    "            path.append(next_node)\n",
    "            paths.append(path[:])\n",
    "            path.pop()\n",
    "        elif next_node.isupper() or next_node not in path:\n",
    "                path.append(next_node)\n",
    "                walk(path, revisit_small)\n",
    "                path.pop()\n",
    "        elif revisit_small:\n",
    "                path.append(next_node)\n",
    "                walk(path, False)\n",
    "                path.pop()\n",
    "\n",
    "\n",
    "walk([\"start\"])"
   ]
  },
  {
   "cell_type": "code",
   "execution_count": 64,
   "id": "removed-stomach",
   "metadata": {},
   "outputs": [
    {
     "data": {
      "text/plain": [
       "152837"
      ]
     },
     "execution_count": 64,
     "metadata": {},
     "output_type": "execute_result"
    }
   ],
   "source": [
    "result = len(paths)\n",
    "result"
   ]
  },
  {
   "cell_type": "code",
   "execution_count": 62,
   "id": "progressive-appraisal",
   "metadata": {},
   "outputs": [
    {
     "name": "stdout",
     "output_type": "stream",
     "text": [
      "\u001b[32mThat's the right answer!  You are one gold star closer to finding the sleigh keys.You have completed Day 12! You can [Shareon\n",
      "  Twitter\n",
      "Mastodon] this victory or [Return to Your Advent Calendar].\u001b[0m\n"
     ]
    }
   ],
   "source": [
    "puzzle.answer_b = result"
   ]
  }
 ],
 "metadata": {
  "kernelspec": {
   "display_name": "DataScience",
   "language": "python",
   "name": "datascience"
  },
  "language_info": {
   "codemirror_mode": {
    "name": "ipython",
    "version": 3
   },
   "file_extension": ".py",
   "mimetype": "text/x-python",
   "name": "python",
   "nbconvert_exporter": "python",
   "pygments_lexer": "ipython3",
   "version": "3.9.1"
  }
 },
 "nbformat": 4,
 "nbformat_minor": 5
}
