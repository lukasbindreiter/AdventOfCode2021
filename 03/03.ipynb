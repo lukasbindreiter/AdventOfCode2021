{
 "cells": [
  {
   "cell_type": "code",
   "execution_count": 14,
   "id": "excessive-house",
   "metadata": {},
   "outputs": [],
   "source": [
    "import numpy as np\n",
    "import webbrowser\n",
    "from aocd.models import Puzzle\n",
    "from functools import reduce\n",
    "import numpy as np\n",
    "puzzle = Puzzle(year=2021, day=3)"
   ]
  },
  {
   "cell_type": "code",
   "execution_count": 2,
   "id": "attractive-administration",
   "metadata": {},
   "outputs": [],
   "source": [
    "webbrowser.open(puzzle.url);"
   ]
  },
  {
   "cell_type": "markdown",
   "id": "comic-diana",
   "metadata": {},
   "source": [
    "## Part 1"
   ]
  },
  {
   "cell_type": "code",
   "execution_count": 26,
   "id": "standard-berry",
   "metadata": {},
   "outputs": [],
   "source": [
    "def to_numpy(line):\n",
    "    return np.fromiter(map(int, line), int)"
   ]
  },
  {
   "cell_type": "code",
   "execution_count": 39,
   "id": "desperate-treasure",
   "metadata": {},
   "outputs": [],
   "source": [
    "count_ones = reduce(lambda a, b: a + b, map(to_numpy, lines))\n",
    "count_zeros = len(lines) - count_ones"
   ]
  },
  {
   "cell_type": "code",
   "execution_count": 59,
   "id": "innovative-nothing",
   "metadata": {},
   "outputs": [],
   "source": [
    "gamma = \"\".join((count_ones >= count_zeros).astype(int).astype(str))\n",
    "epsilon = \"\".join((count_zeros > count_ones).astype(int).astype(str))"
   ]
  },
  {
   "cell_type": "code",
   "execution_count": 60,
   "id": "amber-proposition",
   "metadata": {},
   "outputs": [
    {
     "data": {
      "text/plain": [
       "3309596"
      ]
     },
     "execution_count": 60,
     "metadata": {},
     "output_type": "execute_result"
    }
   ],
   "source": [
    "result"
   ]
  },
  {
   "cell_type": "code",
   "execution_count": 61,
   "id": "mental-flesh",
   "metadata": {},
   "outputs": [],
   "source": [
    "result = int(gamma, 2) * int(epsilon, 2)"
   ]
  },
  {
   "cell_type": "code",
   "execution_count": 52,
   "id": "future-virgin",
   "metadata": {},
   "outputs": [
    {
     "name": "stdout",
     "output_type": "stream",
     "text": [
      "\u001b[32mThat's the right answer!  You are one gold star closer to finding the sleigh keys. [Continue to Part Two]\u001b[0m\n"
     ]
    }
   ],
   "source": [
    "puzzle.answer_a = result"
   ]
  },
  {
   "cell_type": "markdown",
   "id": "brown-catholic",
   "metadata": {},
   "source": [
    "## Part 2"
   ]
  },
  {
   "cell_type": "code",
   "execution_count": 92,
   "id": "exciting-childhood",
   "metadata": {},
   "outputs": [],
   "source": [
    "def o2_criteria(numbers):\n",
    "    count_ones = reduce(lambda a, b: a + b, numbers)\n",
    "    count_zeros = len(numbers) - count_ones\n",
    "    \n",
    "    return (count_ones >= count_zeros).astype(int)\n",
    "\n",
    "def co2_criteria(numbers):\n",
    "    return 1 - o2_criteria(numbers)"
   ]
  },
  {
   "cell_type": "code",
   "execution_count": 118,
   "id": "pointed-murder",
   "metadata": {},
   "outputs": [],
   "source": [
    "def search(criteria):\n",
    "    numbers = list(map(to_numpy, lines))\n",
    "    pos = 0\n",
    "    while len(numbers) > 1:\n",
    "        crit_eval = criteria(numbers)\n",
    "        numbers = list(filter(lambda l: l[pos] == crit_eval[pos], numbers))\n",
    "        pos += 1\n",
    "    return int(\"\".join(numbers[0].astype(str)), 2)"
   ]
  },
  {
   "cell_type": "code",
   "execution_count": 119,
   "id": "diverse-captain",
   "metadata": {},
   "outputs": [],
   "source": [
    "o2_rating = search(o2_criteria)"
   ]
  },
  {
   "cell_type": "code",
   "execution_count": 123,
   "id": "robust-calculator",
   "metadata": {},
   "outputs": [],
   "source": [
    "co2_rating = search(co2_criteria)"
   ]
  },
  {
   "cell_type": "code",
   "execution_count": 125,
   "id": "interracial-footage",
   "metadata": {},
   "outputs": [],
   "source": [
    "result = o2_rating * co2_rating"
   ]
  },
  {
   "cell_type": "code",
   "execution_count": 126,
   "id": "disciplinary-expert",
   "metadata": {},
   "outputs": [
    {
     "data": {
      "text/plain": [
       "2981085"
      ]
     },
     "execution_count": 126,
     "metadata": {},
     "output_type": "execute_result"
    }
   ],
   "source": [
    "result"
   ]
  },
  {
   "cell_type": "code",
   "execution_count": 116,
   "id": "worldwide-gospel",
   "metadata": {},
   "outputs": [
    {
     "name": "stdout",
     "output_type": "stream",
     "text": [
      "\u001b[32mThat's the right answer!  You are one gold star closer to finding the sleigh keys.You have completed Day 3! You can [Shareon\n",
      "  Twitter\n",
      "Mastodon] this victory or [Return to Your Advent Calendar].\u001b[0m\n"
     ]
    }
   ],
   "source": [
    "puzzle.answer_b = result"
   ]
  }
 ],
 "metadata": {
  "kernelspec": {
   "display_name": "DataScience",
   "language": "python",
   "name": "datascience"
  },
  "language_info": {
   "codemirror_mode": {
    "name": "ipython",
    "version": 3
   },
   "file_extension": ".py",
   "mimetype": "text/x-python",
   "name": "python",
   "nbconvert_exporter": "python",
   "pygments_lexer": "ipython3",
   "version": "3.9.1"
  }
 },
 "nbformat": 4,
 "nbformat_minor": 5
}
