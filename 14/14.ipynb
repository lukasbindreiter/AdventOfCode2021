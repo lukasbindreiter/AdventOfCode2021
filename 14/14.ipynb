{
 "cells": [
  {
   "cell_type": "code",
   "execution_count": 1,
   "id": "extreme-uganda",
   "metadata": {},
   "outputs": [],
   "source": [
    "import numpy as np\n",
    "import webbrowser\n",
    "from aocd.models import Puzzle\n",
    "import re\n",
    "import itertools\n",
    "from scipy.ndimage.filters import minimum_filter\n",
    "from scipy.ndimage import label\n",
    "import matplotlib.pyplot as plt\n",
    "from collections import defaultdict\n",
    "%matplotlib inline\n",
    "puzzle = Puzzle(year=2021, day=14)"
   ]
  },
  {
   "cell_type": "code",
   "execution_count": 2,
   "id": "liable-drunk",
   "metadata": {},
   "outputs": [],
   "source": [
    "webbrowser.open(puzzle.url);"
   ]
  },
  {
   "cell_type": "markdown",
   "id": "foreign-proof",
   "metadata": {},
   "source": [
    "## Part 1"
   ]
  },
  {
   "cell_type": "code",
   "execution_count": 3,
   "id": "chronic-crash",
   "metadata": {},
   "outputs": [],
   "source": [
    "input_data = \"\"\"\n",
    "NNCB\n",
    "\n",
    "CH -> B\n",
    "HH -> N\n",
    "CB -> H\n",
    "NH -> C\n",
    "HB -> C\n",
    "HC -> B\n",
    "HN -> C\n",
    "NN -> C\n",
    "BH -> H\n",
    "NC -> B\n",
    "NB -> B\n",
    "BN -> B\n",
    "BB -> N\n",
    "BC -> B\n",
    "CC -> N\n",
    "CN -> C\n",
    "\"\"\".strip()"
   ]
  },
  {
   "cell_type": "code",
   "execution_count": 4,
   "id": "reflected-windows",
   "metadata": {},
   "outputs": [],
   "source": [
    "input_data = puzzle.input_data"
   ]
  },
  {
   "cell_type": "code",
   "execution_count": 5,
   "id": "southwest-gibraltar",
   "metadata": {},
   "outputs": [],
   "source": [
    "template, rules = input_data.split(\"\\n\\n\")\n",
    "rules = dict([tuple(line.split(\" -> \")) for line in rules.split(\"\\n\")])"
   ]
  },
  {
   "cell_type": "code",
   "execution_count": 6,
   "id": "assured-ultimate",
   "metadata": {},
   "outputs": [],
   "source": [
    "pairs = {rule: 0 for rule in rules}\n",
    "for i in range(len(template) - 1):\n",
    "    pairs[template[i:i+2]] += 1"
   ]
  },
  {
   "cell_type": "code",
   "execution_count": 7,
   "id": "trying-reform",
   "metadata": {},
   "outputs": [],
   "source": [
    "def step(pairs):\n",
    "    next_pairs = pairs.copy()\n",
    "    for pair, count in pairs.items():\n",
    "        intermediate_value = rules[pair]\n",
    "        next_pairs[pair] -= count\n",
    "        next_pairs[pair[0] + intermediate_value] += count\n",
    "        next_pairs[intermediate_value + pair[1]] += count\n",
    "    return next_pairs"
   ]
  },
  {
   "cell_type": "code",
   "execution_count": 8,
   "id": "duplicate-interference",
   "metadata": {},
   "outputs": [],
   "source": [
    "for i in range(10):\n",
    "    pairs = step(pairs)"
   ]
  },
  {
   "cell_type": "code",
   "execution_count": 9,
   "id": "novel-pleasure",
   "metadata": {},
   "outputs": [],
   "source": [
    "def frequencies(pairs):\n",
    "    freq = defaultdict(int)\n",
    "    for pair, count in pairs.items():\n",
    "        # count only first letters, second letter will be the first letter of another pair\n",
    "        freq[pair[0]] += count\n",
    "    \n",
    "    # we are missing out on the very last letter though, since that has no pair -> manually increase it by 1\n",
    "    freq[template[-1]] += 1\n",
    "    \n",
    "    return freq"
   ]
  },
  {
   "cell_type": "code",
   "execution_count": 10,
   "id": "covered-berkeley",
   "metadata": {},
   "outputs": [
    {
     "data": {
      "text/plain": [
       "3906"
      ]
     },
     "execution_count": 10,
     "metadata": {},
     "output_type": "execute_result"
    }
   ],
   "source": [
    "freqs = frequencies(pairs)\n",
    "result = max(freqs.values()) - min(freqs.values())\n",
    "result"
   ]
  },
  {
   "cell_type": "code",
   "execution_count": 122,
   "id": "simple-triangle",
   "metadata": {},
   "outputs": [
    {
     "name": "stdout",
     "output_type": "stream",
     "text": [
      "\u001b[32mThat's the right answer!  You are one gold star closer to finding the sleigh keys. [Continue to Part Two]\u001b[0m\n"
     ]
    }
   ],
   "source": [
    "puzzle.answer_a = result"
   ]
  },
  {
   "cell_type": "markdown",
   "id": "impossible-estate",
   "metadata": {},
   "source": [
    "## Part 2"
   ]
  },
  {
   "cell_type": "code",
   "execution_count": 11,
   "id": "coated-theme",
   "metadata": {},
   "outputs": [],
   "source": [
    "for i in range(40 - 10):  # run 30 additional steps to get a total of 40\n",
    "    pairs = step(pairs)"
   ]
  },
  {
   "cell_type": "code",
   "execution_count": 12,
   "id": "deluxe-accused",
   "metadata": {},
   "outputs": [
    {
     "data": {
      "text/plain": [
       "4441317262452"
      ]
     },
     "execution_count": 12,
     "metadata": {},
     "output_type": "execute_result"
    }
   ],
   "source": [
    "freqs = frequencies(pairs)\n",
    "result = max(freqs.values()) - min(freqs.values())\n",
    "result"
   ]
  },
  {
   "cell_type": "code",
   "execution_count": 125,
   "id": "atlantic-vehicle",
   "metadata": {},
   "outputs": [
    {
     "name": "stdout",
     "output_type": "stream",
     "text": [
      "\u001b[32mThat's the right answer!  You are one gold star closer to finding the sleigh keys.You have completed Day 14! You can [Shareon\n",
      "  Twitter\n",
      "Mastodon] this victory or [Return to Your Advent Calendar].\u001b[0m\n"
     ]
    }
   ],
   "source": [
    "puzzle.answer_b = result"
   ]
  }
 ],
 "metadata": {
  "kernelspec": {
   "display_name": "DataScience",
   "language": "python",
   "name": "datascience"
  },
  "language_info": {
   "codemirror_mode": {
    "name": "ipython",
    "version": 3
   },
   "file_extension": ".py",
   "mimetype": "text/x-python",
   "name": "python",
   "nbconvert_exporter": "python",
   "pygments_lexer": "ipython3",
   "version": "3.9.1"
  }
 },
 "nbformat": 4,
 "nbformat_minor": 5
}
