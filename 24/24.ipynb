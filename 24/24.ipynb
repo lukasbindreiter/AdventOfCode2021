{
 "cells": [
  {
   "cell_type": "code",
   "execution_count": 1,
   "id": "developed-tumor",
   "metadata": {},
   "outputs": [],
   "source": [
    "import numpy as np\n",
    "import webbrowser\n",
    "from aocd.models import Puzzle\n",
    "from scipy.signal import correlate2d\n",
    "import matplotlib.pyplot as plt\n",
    "from tqdm.auto import tqdm\n",
    "import re\n",
    "%matplotlib inline\n",
    "puzzle = Puzzle(year=2021, day=24)"
   ]
  },
  {
   "cell_type": "code",
   "execution_count": 2,
   "id": "atlantic-wilderness",
   "metadata": {},
   "outputs": [],
   "source": [
    "webbrowser.open(puzzle.url);"
   ]
  },
  {
   "cell_type": "markdown",
   "id": "posted-content",
   "metadata": {},
   "source": [
    "## Part 1\n",
    "\n",
    "Excellent Write up:\n",
    "\n",
    "https://github.com/kemmel-dev/AdventOfCode2021/blob/master/day24/AoC%20Day%2024.pdf"
   ]
  },
  {
   "cell_type": "code",
   "execution_count": 103,
   "id": "satisfied-packing",
   "metadata": {},
   "outputs": [],
   "source": [
    "lines = puzzle.input_data.split(\"\\n\")"
   ]
  },
  {
   "cell_type": "code",
   "execution_count": 113,
   "id": "complete-profession",
   "metadata": {},
   "outputs": [],
   "source": [
    "divide = [int(lines[4 + i * 18].split()[-1]) for i in range(14)]\n",
    "check = [int(lines[5 + i * 18].split()[-1]) for i in range(14)]\n",
    "offset = [int(lines[15 + i * 18].split()[-1]) for i in range(14)]"
   ]
  },
  {
   "cell_type": "code",
   "execution_count": 114,
   "id": "corporate-sellers",
   "metadata": {},
   "outputs": [],
   "source": [
    "digits = np.full(14, 9)\n",
    "stack = []\n",
    "for i in range(len(digits)):\n",
    "    if check[i] > 0:\n",
    "        stack.append(i)\n",
    "    else:\n",
    "        j = stack.pop()\n",
    "        s = offset[j] + check[i]\n",
    "        if s < 0:\n",
    "            digits[i] -= abs(s)\n",
    "        else:\n",
    "            digits[j] -= s\n",
    "result = int(\"\".join([str(d) for d in digits]))"
   ]
  },
  {
   "cell_type": "code",
   "execution_count": 115,
   "id": "amino-shepherd",
   "metadata": {},
   "outputs": [
    {
     "name": "stdout",
     "output_type": "stream",
     "text": [
      "\u001b[32mThat's the right answer!  You are one gold star closer to finding the sleigh keys. [Continue to Part Two]\u001b[0m\n"
     ]
    }
   ],
   "source": [
    "puzzle.answer_a = result"
   ]
  },
  {
   "cell_type": "markdown",
   "id": "amazing-coffee",
   "metadata": {},
   "source": [
    "## Part 2"
   ]
  },
  {
   "cell_type": "code",
   "execution_count": 116,
   "id": "destroyed-medicine",
   "metadata": {},
   "outputs": [],
   "source": [
    "digits = np.full(14, 1)\n",
    "stack = []\n",
    "for i in range(len(digits)):\n",
    "    if check[i] > 0:\n",
    "        stack.append(i)\n",
    "    else:\n",
    "        j = stack.pop()\n",
    "        s = offset[j] + check[i]\n",
    "        if s < 0:\n",
    "            digits[j] += abs(s)\n",
    "        else:\n",
    "            digits[i] += s\n",
    "result = int(\"\".join([str(d) for d in digits]))"
   ]
  },
  {
   "cell_type": "code",
   "execution_count": 117,
   "id": "descending-worship",
   "metadata": {},
   "outputs": [
    {
     "data": {
      "text/plain": [
       "16931171414113"
      ]
     },
     "execution_count": 117,
     "metadata": {},
     "output_type": "execute_result"
    }
   ],
   "source": [
    "result"
   ]
  },
  {
   "cell_type": "code",
   "execution_count": 118,
   "id": "musical-recovery",
   "metadata": {},
   "outputs": [
    {
     "name": "stdout",
     "output_type": "stream",
     "text": [
      "\u001b[32mThat's the right answer!  You are one gold star closer to finding the sleigh keys.You have completed Day 24! You can [Shareon\n",
      "  Twitter\n",
      "Mastodon] this victory or [Return to Your Advent Calendar].\u001b[0m\n"
     ]
    }
   ],
   "source": [
    "puzzle.answer_b = result"
   ]
  }
 ],
 "metadata": {
  "kernelspec": {
   "display_name": "DataScience",
   "language": "python",
   "name": "datascience"
  },
  "language_info": {
   "codemirror_mode": {
    "name": "ipython",
    "version": 3
   },
   "file_extension": ".py",
   "mimetype": "text/x-python",
   "name": "python",
   "nbconvert_exporter": "python",
   "pygments_lexer": "ipython3",
   "version": "3.9.1"
  }
 },
 "nbformat": 4,
 "nbformat_minor": 5
}
