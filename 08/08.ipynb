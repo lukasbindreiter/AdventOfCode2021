{
 "cells": [
  {
   "cell_type": "code",
   "execution_count": 1,
   "id": "plain-following",
   "metadata": {},
   "outputs": [],
   "source": [
    "import numpy as np\n",
    "import webbrowser\n",
    "from aocd.models import Puzzle\n",
    "import re\n",
    "import itertools\n",
    "puzzle = Puzzle(year=2021, day=8)"
   ]
  },
  {
   "cell_type": "code",
   "execution_count": 2,
   "id": "loose-sculpture",
   "metadata": {},
   "outputs": [],
   "source": [
    "webbrowser.open(puzzle.url);"
   ]
  },
  {
   "cell_type": "markdown",
   "id": "russian-strategy",
   "metadata": {},
   "source": [
    "## Part 1"
   ]
  },
  {
   "cell_type": "code",
   "execution_count": 5,
   "id": "changing-blade",
   "metadata": {},
   "outputs": [],
   "source": [
    "input_data = puzzle.input_data"
   ]
  },
  {
   "cell_type": "code",
   "execution_count": 6,
   "id": "adapted-wealth",
   "metadata": {},
   "outputs": [],
   "source": [
    "lines = input_data.split(\"\\n\")"
   ]
  },
  {
   "cell_type": "code",
   "execution_count": 7,
   "id": "moderate-paradise",
   "metadata": {},
   "outputs": [],
   "source": [
    "output_digits = [l.split(\"|\")[1].strip() for l in lines]"
   ]
  },
  {
   "cell_type": "code",
   "execution_count": 16,
   "id": "decent-platform",
   "metadata": {},
   "outputs": [
    {
     "data": {
      "text/plain": [
       "255"
      ]
     },
     "execution_count": 16,
     "metadata": {},
     "output_type": "execute_result"
    }
   ],
   "source": [
    "result = len([digit for out in output_digits for digit in out.split(\" \") if len(digit) in {2, 3, 4, 7}])\n",
    "result"
   ]
  },
  {
   "cell_type": "code",
   "execution_count": 17,
   "id": "baking-privacy",
   "metadata": {},
   "outputs": [
    {
     "name": "stdout",
     "output_type": "stream",
     "text": [
      "\u001b[32mThat's the right answer!  You are one gold star closer to finding the sleigh keys. [Continue to Part Two]\u001b[0m\n"
     ]
    }
   ],
   "source": [
    "puzzle.answer_a = result"
   ]
  },
  {
   "cell_type": "markdown",
   "id": "sharp-contact",
   "metadata": {},
   "source": [
    "## Part 2"
   ]
  },
  {
   "cell_type": "code",
   "execution_count": 80,
   "id": "honey-burner",
   "metadata": {},
   "outputs": [],
   "source": [
    "digit_mapping = {\n",
    "    0: {\"a\", \"b\", \"c\", \"e\", \"f\", \"g\"},\n",
    "    1: {\"c\", \"f\"},\n",
    "    2: {\"a\", \"c\", \"d\", \"e\", \"g\"},\n",
    "    3: {\"a\", \"c\", \"d\", \"f\", \"g\"},\n",
    "    4: {\"b\", \"c\", \"d\", \"f\"},\n",
    "    5: {\"a\", \"b\", \"d\", \"f\", \"g\"},\n",
    "    6: {\"a\", \"b\", \"d\", \"e\", \"f\", \"g\"},\n",
    "    7: {\"a\", \"c\", \"f\"},\n",
    "    8: {\"a\", \"b\", \"c\", \"d\", \"e\", \"f\", \"g\"},\n",
    "    9: {\"a\", \"b\", \"c\", \"d\", \"f\", \"g\"}\n",
    "}\n",
    "\n",
    "segment_mapping = {\"\".join(sorted(v)): k for k, v in digit_mapping.items()}"
   ]
  },
  {
   "cell_type": "code",
   "execution_count": null,
   "id": "ethical-waterproof",
   "metadata": {},
   "outputs": [],
   "source": []
  },
  {
   "cell_type": "code",
   "execution_count": 141,
   "id": "pediatric-variety",
   "metadata": {},
   "outputs": [],
   "source": [
    "results = []\n",
    "\n",
    "for line in lines:\n",
    "    line = line.replace(\" | \", \" \")\n",
    "    for a, b, c, d, e, f, g in itertools.permutations([\"A\", \"B\", \"C\", \"D\", \"E\", \"F\", \"G\"], 7):\n",
    "        perm = line.replace(\"a\", a).replace(\"b\", b).replace(\"c\", c).replace(\"d\", d).replace(\"e\", e).replace(\"f\", f).replace(\"g\", g).lower()\n",
    "        digits = perm.split(\" \")\n",
    "        try:\n",
    "            found = {}\n",
    "            for digit in digits[:10]:\n",
    "                key = \"\".join(sorted(digit))\n",
    "                found[key] = segment_mapping[key]\n",
    "\n",
    "            if len(found) == 10:  # we found the correct mapping\n",
    "                out = \"\"\n",
    "                for digit in digits[10:]:\n",
    "                    key = \"\".join(sorted(digit))\n",
    "                    out += str(found[key])\n",
    "                results.append(int(out))\n",
    "        except KeyError:\n",
    "            pass"
   ]
  },
  {
   "cell_type": "code",
   "execution_count": 142,
   "id": "confused-newfoundland",
   "metadata": {},
   "outputs": [
    {
     "data": {
      "text/plain": [
       "982158"
      ]
     },
     "execution_count": 142,
     "metadata": {},
     "output_type": "execute_result"
    }
   ],
   "source": [
    "result = sum(results)\n",
    "result"
   ]
  },
  {
   "cell_type": "code",
   "execution_count": 143,
   "id": "whole-jaguar",
   "metadata": {},
   "outputs": [
    {
     "name": "stdout",
     "output_type": "stream",
     "text": [
      "\u001b[32mThat's the right answer!  You are one gold star closer to finding the sleigh keys.You have completed Day 8! You can [Shareon\n",
      "  Twitter\n",
      "Mastodon] this victory or [Return to Your Advent Calendar].\u001b[0m\n"
     ]
    }
   ],
   "source": [
    "puzzle.answer_b = result"
   ]
  }
 ],
 "metadata": {
  "kernelspec": {
   "display_name": "DataScience",
   "language": "python",
   "name": "datascience"
  },
  "language_info": {
   "codemirror_mode": {
    "name": "ipython",
    "version": 3
   },
   "file_extension": ".py",
   "mimetype": "text/x-python",
   "name": "python",
   "nbconvert_exporter": "python",
   "pygments_lexer": "ipython3",
   "version": "3.9.1"
  }
 },
 "nbformat": 4,
 "nbformat_minor": 5
}
