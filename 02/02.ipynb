{
 "cells": [
  {
   "cell_type": "code",
   "execution_count": 1,
   "id": "assumed-rough",
   "metadata": {},
   "outputs": [],
   "source": [
    "import numpy as np\n",
    "import webbrowser\n",
    "from aocd.models import Puzzle\n",
    "puzzle = Puzzle(year=2021, day=2)"
   ]
  },
  {
   "cell_type": "code",
   "execution_count": 2,
   "id": "miniature-thing",
   "metadata": {},
   "outputs": [],
   "source": [
    "webbrowser.open(puzzle.url);"
   ]
  },
  {
   "cell_type": "markdown",
   "id": "initial-coast",
   "metadata": {},
   "source": [
    "## Part 1"
   ]
  },
  {
   "cell_type": "code",
   "execution_count": 8,
   "id": "copyrighted-billy",
   "metadata": {},
   "outputs": [],
   "source": [
    "instructions = puzzle.input_data.split()"
   ]
  },
  {
   "cell_type": "code",
   "execution_count": 16,
   "id": "exclusive-angel",
   "metadata": {},
   "outputs": [],
   "source": [
    "directions = {\n",
    "    \"forward\": 1,\n",
    "    \"up\": -1j,\n",
    "    \"down\": 1j\n",
    "}"
   ]
  },
  {
   "cell_type": "code",
   "execution_count": 20,
   "id": "suburban-hollow",
   "metadata": {},
   "outputs": [],
   "source": [
    "position = 0\n",
    "for direction, amount in zip(instructions[::2], instructions[1::2]):\n",
    "    position += directions[direction] * int(amount)"
   ]
  },
  {
   "cell_type": "code",
   "execution_count": 28,
   "id": "sixth-classroom",
   "metadata": {},
   "outputs": [
    {
     "data": {
      "text/plain": [
       "1383564"
      ]
     },
     "execution_count": 28,
     "metadata": {},
     "output_type": "execute_result"
    }
   ],
   "source": [
    "result = int(position.real * position.imag)\n",
    "result"
   ]
  },
  {
   "cell_type": "code",
   "execution_count": 29,
   "id": "incoming-mediterranean",
   "metadata": {},
   "outputs": [
    {
     "name": "stdout",
     "output_type": "stream",
     "text": [
      "\u001b[32mThat's the right answer!  You are one gold star closer to finding the sleigh keys. [Continue to Part Two]\u001b[0m\n"
     ]
    }
   ],
   "source": [
    "puzzle.answer_a = result"
   ]
  },
  {
   "cell_type": "markdown",
   "id": "entire-arabic",
   "metadata": {},
   "source": [
    "## Part 2"
   ]
  },
  {
   "cell_type": "code",
   "execution_count": 32,
   "id": "established-capital",
   "metadata": {},
   "outputs": [],
   "source": [
    "position = 0\n",
    "aim = 0\n",
    "for direction, amount in zip(instructions[::2], instructions[1::2]):\n",
    "    if direction == \"forward\":\n",
    "        position += int(amount) + aim * int(amount)\n",
    "    else:\n",
    "        aim += directions[direction] * int(amount)"
   ]
  },
  {
   "cell_type": "code",
   "execution_count": 35,
   "id": "fourth-optimum",
   "metadata": {},
   "outputs": [
    {
     "data": {
      "text/plain": [
       "1488311643"
      ]
     },
     "execution_count": 35,
     "metadata": {},
     "output_type": "execute_result"
    }
   ],
   "source": [
    "result = int(position.real * position.imag)\n",
    "result"
   ]
  },
  {
   "cell_type": "code",
   "execution_count": 36,
   "id": "excited-crown",
   "metadata": {},
   "outputs": [
    {
     "name": "stdout",
     "output_type": "stream",
     "text": [
      "\u001b[32mThat's the right answer!  You are one gold star closer to finding the sleigh keys.You have completed Day 2! You can [Shareon\n",
      "  Twitter\n",
      "Mastodon] this victory or [Return to Your Advent Calendar].\u001b[0m\n"
     ]
    }
   ],
   "source": [
    "puzzle.answer_b = result"
   ]
  }
 ],
 "metadata": {
  "kernelspec": {
   "display_name": "DataScience",
   "language": "python",
   "name": "datascience"
  },
  "language_info": {
   "codemirror_mode": {
    "name": "ipython",
    "version": 3
   },
   "file_extension": ".py",
   "mimetype": "text/x-python",
   "name": "python",
   "nbconvert_exporter": "python",
   "pygments_lexer": "ipython3",
   "version": "3.9.1"
  }
 },
 "nbformat": 4,
 "nbformat_minor": 5
}
