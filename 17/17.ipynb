{
 "cells": [
  {
   "cell_type": "code",
   "execution_count": 1,
   "id": "historic-invention",
   "metadata": {},
   "outputs": [],
   "source": [
    "import numpy as np\n",
    "import webbrowser\n",
    "from aocd.models import Puzzle\n",
    "import re\n",
    "import itertools\n",
    "from scipy.ndimage.filters import minimum_filter\n",
    "from scipy.ndimage import label\n",
    "import matplotlib.pyplot as plt\n",
    "from collections import defaultdict\n",
    "import networkx as nx\n",
    "%matplotlib inline\n",
    "puzzle = Puzzle(year=2021, day=17)"
   ]
  },
  {
   "cell_type": "code",
   "execution_count": 2,
   "id": "olympic-surrey",
   "metadata": {},
   "outputs": [],
   "source": [
    "webbrowser.open(puzzle.url);"
   ]
  },
  {
   "cell_type": "markdown",
   "id": "regular-command",
   "metadata": {},
   "source": [
    "## Part 1"
   ]
  },
  {
   "cell_type": "code",
   "execution_count": 68,
   "id": "eastern-cabin",
   "metadata": {},
   "outputs": [],
   "source": [
    "input_data = \"target area: x=20..30, y=-10..-5\""
   ]
  },
  {
   "cell_type": "code",
   "execution_count": 94,
   "id": "soviet-proof",
   "metadata": {},
   "outputs": [],
   "source": [
    "input_data = puzzle.input_data"
   ]
  },
  {
   "cell_type": "code",
   "execution_count": 95,
   "id": "optimum-small",
   "metadata": {},
   "outputs": [],
   "source": [
    "x0, x1, y0, y1 = map(int, re.findall(\"-?\\d+\", input_data))\n",
    "xs = min(x0, x1), max(x0, x1)\n",
    "ys = min(y0, y1), max(y0, y1)"
   ]
  },
  {
   "cell_type": "code",
   "execution_count": 96,
   "id": "former-vampire",
   "metadata": {},
   "outputs": [],
   "source": [
    "def shoot(velocity):\n",
    "    velocity = np.asarray(velocity)\n",
    "    pos = np.asarray([0, 0])\n",
    "    while pos[0] <= xs[1] and pos[1] >= ys[0]:\n",
    "        yield list(pos)\n",
    "        pos += velocity\n",
    "        velocity[0] -= np.sign(velocity[0])\n",
    "        velocity[1] -= 1\n",
    "    "
   ]
  },
  {
   "cell_type": "markdown",
   "id": "graduate-roommate",
   "metadata": {},
   "source": [
    "#### X doesn't really matter at all\n",
    "\n",
    "- y velocity needs to be one lower than the absolute value of the lower edge of the target area"
   ]
  },
  {
   "cell_type": "code",
   "execution_count": 97,
   "id": "legislative-lying",
   "metadata": {},
   "outputs": [],
   "source": [
    "points = np.asarray(list(shoot([1, abs(ys[0]) - 1])))"
   ]
  },
  {
   "cell_type": "code",
   "execution_count": 98,
   "id": "modern-breast",
   "metadata": {},
   "outputs": [
    {
     "data": {
      "text/plain": [
       "9180"
      ]
     },
     "execution_count": 98,
     "metadata": {},
     "output_type": "execute_result"
    }
   ],
   "source": [
    "result = points[:, 1].max()\n",
    "result"
   ]
  },
  {
   "cell_type": "code",
   "execution_count": 99,
   "id": "checked-grammar",
   "metadata": {},
   "outputs": [
    {
     "name": "stdout",
     "output_type": "stream",
     "text": [
      "Part a already solved with same answer: 9180\n"
     ]
    }
   ],
   "source": [
    "puzzle.answer_a = result"
   ]
  },
  {
   "cell_type": "markdown",
   "id": "three-disco",
   "metadata": {},
   "source": [
    "## Part 2"
   ]
  },
  {
   "cell_type": "code",
   "execution_count": 109,
   "id": "palestinian-healing",
   "metadata": {},
   "outputs": [],
   "source": [
    "velocities = []\n",
    "for x in range(0, xs[1] + 1):\n",
    "    for y in range(-abs(ys[0]), abs(ys[0])):\n",
    "        points = np.asarray(list(shoot([x, y])))\n",
    "        inside = (points[:, 0] >= xs[0]) & (points[:, 0] <= xs[1]) & (points[:, 1] >= ys[0]) & (points[:, 1] <= ys[1])\n",
    "        if inside.any():\n",
    "            velocities.append((x, y))"
   ]
  },
  {
   "cell_type": "code",
   "execution_count": 110,
   "id": "wired-presence",
   "metadata": {},
   "outputs": [
    {
     "data": {
      "text/plain": [
       "3767"
      ]
     },
     "execution_count": 110,
     "metadata": {},
     "output_type": "execute_result"
    }
   ],
   "source": [
    "result = len(velocities)\n",
    "result"
   ]
  },
  {
   "cell_type": "code",
   "execution_count": 104,
   "id": "universal-malawi",
   "metadata": {},
   "outputs": [
    {
     "name": "stdout",
     "output_type": "stream",
     "text": [
      "\u001b[32mThat's the right answer!  You are one gold star closer to finding the sleigh keys.You have completed Day 17! You can [Shareon\n",
      "  Twitter\n",
      "Mastodon] this victory or [Return to Your Advent Calendar].\u001b[0m\n"
     ]
    }
   ],
   "source": [
    "puzzle.answer_b = result"
   ]
  }
 ],
 "metadata": {
  "kernelspec": {
   "display_name": "DataScience",
   "language": "python",
   "name": "datascience"
  },
  "language_info": {
   "codemirror_mode": {
    "name": "ipython",
    "version": 3
   },
   "file_extension": ".py",
   "mimetype": "text/x-python",
   "name": "python",
   "nbconvert_exporter": "python",
   "pygments_lexer": "ipython3",
   "version": "3.9.1"
  }
 },
 "nbformat": 4,
 "nbformat_minor": 5
}
