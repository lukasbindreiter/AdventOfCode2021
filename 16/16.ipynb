{
 "cells": [
  {
   "cell_type": "code",
   "execution_count": 1,
   "id": "rational-desert",
   "metadata": {},
   "outputs": [],
   "source": [
    "import numpy as np\n",
    "import webbrowser\n",
    "from aocd.models import Puzzle\n",
    "import re\n",
    "import itertools\n",
    "from scipy.ndimage.filters import minimum_filter\n",
    "from scipy.ndimage import label\n",
    "import matplotlib.pyplot as plt\n",
    "from collections import defaultdict\n",
    "import networkx as nx\n",
    "%matplotlib inline\n",
    "puzzle = Puzzle(year=2021, day=16)"
   ]
  },
  {
   "cell_type": "code",
   "execution_count": 2,
   "id": "collective-antarctica",
   "metadata": {},
   "outputs": [],
   "source": [
    "webbrowser.open(puzzle.url);"
   ]
  },
  {
   "cell_type": "markdown",
   "id": "colonial-fever",
   "metadata": {},
   "source": [
    "## Part 1"
   ]
  },
  {
   "cell_type": "code",
   "execution_count": 3,
   "id": "danish-patio",
   "metadata": {},
   "outputs": [],
   "source": [
    "tests = [\n",
    "    (\"D2FE28\", 6),\n",
    "    (\"38006F45291200\", 9),\n",
    "    (\"EE00D40C823060\", 14),\n",
    "    (\"8A004A801A8002F478\", 16),\n",
    "    (\"620080001611562C8802118E34\", 12),\n",
    "    (\"C0015000016115A2E0802F182340\", 23),\n",
    "    (\"A0016C880162017C3686B18A3D4780\", 31),\n",
    "]"
   ]
  },
  {
   "cell_type": "code",
   "execution_count": 4,
   "id": "prostate-modem",
   "metadata": {},
   "outputs": [],
   "source": [
    "def hex_to_binary(hex: str) -> str:\n",
    "    binary = \"\"\n",
    "    for ch in hex:\n",
    "        ch_binary = bin(int(ch, 16))[2:]\n",
    "        if len(ch_binary) < 4:\n",
    "            ch_binary = \"0\" * (4 - len(ch_binary)) + ch_binary\n",
    "        binary += ch_binary\n",
    "    return binary"
   ]
  },
  {
   "cell_type": "code",
   "execution_count": 5,
   "id": "ceramic-horizontal",
   "metadata": {},
   "outputs": [],
   "source": [
    "class Parser:\n",
    "    def __init__(self, packet_hex: str):\n",
    "        self.packet_hex = packet_hex\n",
    "        self.packet = hex_to_binary(packet_hex)\n",
    "        self.version_numbers = []\n",
    "    \n",
    "    def next_binary(self, n_bits: int) -> str:\n",
    "        binary = self.packet[:n_bits]\n",
    "        self.packet = self.packet[n_bits:]\n",
    "        return binary\n",
    "    \n",
    "    def next_int(self, n_bits: int) -> int:\n",
    "        return int(self.next_binary(n_bits), 2)\n",
    "    \n",
    "    \n",
    "    def parse_packet(self):\n",
    "        version, type_id = self.parse_header()\n",
    "        if type_id == 4:  # literal\n",
    "            result = self.parse_literal()\n",
    "        else:  # operator\n",
    "            subpackets = self.parse_operator_content()\n",
    "            if type_id == 0:\n",
    "                result = np.sum(subpackets)\n",
    "            elif type_id == 1:\n",
    "                result = np.prod(subpackets)\n",
    "            elif type_id == 2:\n",
    "                result = np.min(subpackets)\n",
    "            elif type_id == 3:\n",
    "                result = np.max(subpackets)\n",
    "            elif type_id == 5:\n",
    "                result = int(subpackets[0] > subpackets[1])\n",
    "            elif type_id == 6:\n",
    "                result = int(subpackets[0] < subpackets[1])\n",
    "            elif type_id == 7:\n",
    "                result = int(subpackets[0] == subpackets[1])\n",
    "        \n",
    "        return result\n",
    "        \n",
    "    def parse_header(self):\n",
    "        version = self.next_int(3)\n",
    "        self.version_numbers.append(version)\n",
    "        type_id = self.next_int(3)\n",
    "        return version, type_id\n",
    "    \n",
    "    def parse_literal(self) -> int:\n",
    "        literal = \"\"\n",
    "        while len(self.packet) >= 5:\n",
    "            group = self.next_binary(5)\n",
    "            literal += group[1:]\n",
    "            if group[0] == \"0\":\n",
    "                break\n",
    "        return int(literal, 2)\n",
    "    \n",
    "    def parse_operator_content(self) -> int:\n",
    "        length_type_id = self.next_int(1)\n",
    "        if length_type_id == 0:\n",
    "            args = dict(n_bits = self.next_int(15))\n",
    "        else:\n",
    "            args = dict(n_packets = self.next_int(11))\n",
    "        return self.parse_subpackets(**args)\n",
    "    \n",
    "    def parse_subpackets(self, n_bits = None, n_packets = None):\n",
    "        subpackets = []\n",
    "        if n_bits:\n",
    "            remaining_length = len(self.packet) - n_bits\n",
    "            while len(self.packet) > remaining_length:\n",
    "                subpackets.append(self.parse_packet())\n",
    "        else:\n",
    "            while len(subpackets) < n_packets:\n",
    "                subpackets.append(self.parse_packet())\n",
    "        return subpackets"
   ]
  },
  {
   "cell_type": "code",
   "execution_count": 6,
   "id": "alpha-onion",
   "metadata": {},
   "outputs": [],
   "source": [
    "def part_1(input_data):\n",
    "    p = Parser(input_data)\n",
    "    p.parse_packet()\n",
    "    return sum(p.version_numbers)"
   ]
  },
  {
   "cell_type": "code",
   "execution_count": 7,
   "id": "ambient-surface",
   "metadata": {},
   "outputs": [],
   "source": [
    "for test_input, test_output in tests:\n",
    "    assert part_1(test_input) == test_output"
   ]
  },
  {
   "cell_type": "code",
   "execution_count": 8,
   "id": "stone-genius",
   "metadata": {},
   "outputs": [
    {
     "data": {
      "text/plain": [
       "843"
      ]
     },
     "execution_count": 8,
     "metadata": {},
     "output_type": "execute_result"
    }
   ],
   "source": [
    "result = part_1(puzzle.input_data)\n",
    "result"
   ]
  },
  {
   "cell_type": "code",
   "execution_count": 211,
   "id": "middle-makeup",
   "metadata": {},
   "outputs": [
    {
     "name": "stdout",
     "output_type": "stream",
     "text": [
      "\u001b[32mThat's the right answer!  You are one gold star closer to finding the sleigh keys. [Continue to Part Two]\u001b[0m\n"
     ]
    }
   ],
   "source": [
    "puzzle.answer_a = result"
   ]
  },
  {
   "cell_type": "markdown",
   "id": "infrared-pontiac",
   "metadata": {},
   "source": [
    "## Part 2"
   ]
  },
  {
   "cell_type": "code",
   "execution_count": 9,
   "id": "initial-discipline",
   "metadata": {},
   "outputs": [],
   "source": [
    "tests2 = [\n",
    "    (\"C200B40A82\", 3),\n",
    "    (\"04005AC33890\", 54),\n",
    "    (\"880086C3E88112\", 7),\n",
    "    (\"CE00C43D881120\", 9),\n",
    "    (\"D8005AC2A8F0\", 1),\n",
    "    (\"F600BC2D8F\", 0),\n",
    "    (\"9C005AC2F8F0\", 0),\n",
    "    (\"9C0141080250320F1802104A08\", 1)\n",
    "]"
   ]
  },
  {
   "cell_type": "code",
   "execution_count": 10,
   "id": "designing-template",
   "metadata": {},
   "outputs": [],
   "source": [
    "def part_2(input_data):\n",
    "    return Parser(input_data).parse_packet()"
   ]
  },
  {
   "cell_type": "code",
   "execution_count": 11,
   "id": "painful-appendix",
   "metadata": {},
   "outputs": [],
   "source": [
    "for test_input, test_output in tests2:\n",
    "    assert part_2(test_input) == test_output"
   ]
  },
  {
   "cell_type": "code",
   "execution_count": 12,
   "id": "brazilian-graduate",
   "metadata": {},
   "outputs": [
    {
     "data": {
      "text/plain": [
       "5390807940351"
      ]
     },
     "execution_count": 12,
     "metadata": {},
     "output_type": "execute_result"
    }
   ],
   "source": [
    "result = part_2(puzzle.input_data)\n",
    "result"
   ]
  },
  {
   "cell_type": "code",
   "execution_count": 221,
   "id": "precise-mandate",
   "metadata": {},
   "outputs": [
    {
     "name": "stdout",
     "output_type": "stream",
     "text": [
      "\u001b[32mThat's the right answer!  You are one gold star closer to finding the sleigh keys.You have completed Day 16! You can [Shareon\n",
      "  Twitter\n",
      "Mastodon] this victory or [Return to Your Advent Calendar].\u001b[0m\n"
     ]
    }
   ],
   "source": [
    "puzzle.answer_b = result"
   ]
  }
 ],
 "metadata": {
  "kernelspec": {
   "display_name": "DataScience",
   "language": "python",
   "name": "datascience"
  },
  "language_info": {
   "codemirror_mode": {
    "name": "ipython",
    "version": 3
   },
   "file_extension": ".py",
   "mimetype": "text/x-python",
   "name": "python",
   "nbconvert_exporter": "python",
   "pygments_lexer": "ipython3",
   "version": "3.9.1"
  }
 },
 "nbformat": 4,
 "nbformat_minor": 5
}
