{
 "cells": [
  {
   "cell_type": "code",
   "execution_count": 6,
   "id": "charitable-decrease",
   "metadata": {},
   "outputs": [],
   "source": [
    "import numpy as np\n",
    "import webbrowser\n",
    "from aocd.models import Puzzle\n",
    "from scipy.signal import correlate2d\n",
    "import matplotlib.pyplot as plt\n",
    "from tqdm.auto import tqdm\n",
    "import re\n",
    "%matplotlib inline\n",
    "puzzle = Puzzle(year=2021, day=22)"
   ]
  },
  {
   "cell_type": "code",
   "execution_count": 2,
   "id": "mighty-authorization",
   "metadata": {},
   "outputs": [],
   "source": [
    "webbrowser.open(puzzle.url);"
   ]
  },
  {
   "cell_type": "markdown",
   "id": "bizarre-leeds",
   "metadata": {},
   "source": [
    "## Part 1"
   ]
  },
  {
   "cell_type": "code",
   "execution_count": 359,
   "id": "curious-fusion",
   "metadata": {},
   "outputs": [],
   "source": [
    "input_data = \"\"\"\n",
    "on x=-5..47,y=-31..22,z=-19..33\n",
    "on x=-44..5,y=-27..21,z=-14..35\n",
    "on x=-49..-1,y=-11..42,z=-10..38\n",
    "on x=-20..34,y=-40..6,z=-44..1\n",
    "off x=26..39,y=40..50,z=-2..11\n",
    "on x=-41..5,y=-41..6,z=-36..8\n",
    "off x=-43..-33,y=-45..-28,z=7..25\n",
    "on x=-33..15,y=-32..19,z=-34..11\n",
    "\"\"\".strip()"
   ]
  },
  {
   "cell_type": "code",
   "execution_count": 438,
   "id": "enormous-envelope",
   "metadata": {},
   "outputs": [],
   "source": [
    "input_data = puzzle.input_data"
   ]
  },
  {
   "cell_type": "code",
   "execution_count": 439,
   "id": "centered-reminder",
   "metadata": {},
   "outputs": [],
   "source": [
    "states = np.asarray([1 if l.split()[0] == \"on\" else 0 for l in input_data.split(\"\\n\")])\n",
    "ranges = np.fromiter(map(int, re.findall(\"-?\\d+\", input_data)), int).reshape(-1, 6)"
   ]
  },
  {
   "cell_type": "code",
   "execution_count": 440,
   "id": "amino-delta",
   "metadata": {},
   "outputs": [],
   "source": [
    "cubes = np.zeros((100, 100, 100), int)"
   ]
  },
  {
   "cell_type": "code",
   "execution_count": 441,
   "id": "plastic-substance",
   "metadata": {},
   "outputs": [],
   "source": [
    "for state, (x0, x1, y0, y1, z0, z1) in zip(states, ranges):\n",
    "    cubes[x0+49:x1+49+1, y0+49:y1+49+1, z0+49:z1+49+1] = state"
   ]
  },
  {
   "cell_type": "code",
   "execution_count": 442,
   "id": "infrared-orientation",
   "metadata": {},
   "outputs": [
    {
     "data": {
      "text/plain": [
       "603661"
      ]
     },
     "execution_count": 442,
     "metadata": {},
     "output_type": "execute_result"
    }
   ],
   "source": [
    "result = cubes.sum()\n",
    "result"
   ]
  },
  {
   "cell_type": "code",
   "execution_count": 443,
   "id": "communist-subject",
   "metadata": {},
   "outputs": [
    {
     "name": "stdout",
     "output_type": "stream",
     "text": [
      "Part a already solved with same answer: 603661\n"
     ]
    }
   ],
   "source": [
    "puzzle.answer_a = result"
   ]
  },
  {
   "cell_type": "markdown",
   "id": "knowing-congress",
   "metadata": {},
   "source": [
    "## Part 2"
   ]
  },
  {
   "cell_type": "code",
   "execution_count": 444,
   "id": "careful-developer",
   "metadata": {
    "tags": []
   },
   "outputs": [],
   "source": [
    "states = np.asarray([1 if l.split()[0] == \"on\" else 0 for l in input_data.split(\"\\n\")])\n",
    "ranges = np.fromiter(map(int, re.findall(\"-?\\d+\", input_data)), int).reshape(-1, 6)"
   ]
  },
  {
   "cell_type": "code",
   "execution_count": 460,
   "id": "hydraulic-heavy",
   "metadata": {},
   "outputs": [],
   "source": [
    "def compress_range(ranges):\n",
    "    uniq = sorted(set(ranges[:, 0]) | set(ranges[:, 1] + 1))\n",
    "    return {val: i for i, val in enumerate(uniq)}\n",
    "\n",
    "xs = compress_range(ranges[:, :2])\n",
    "ys = compress_range(ranges[:, 2:4])\n",
    "zs = compress_range(ranges[:, 4:])"
   ]
  },
  {
   "cell_type": "code",
   "execution_count": 461,
   "id": "statistical-green",
   "metadata": {},
   "outputs": [],
   "source": [
    "cubes = np.zeros((len(xs), len(ys), len(zs)), int)"
   ]
  },
  {
   "cell_type": "code",
   "execution_count": 462,
   "id": "matched-color",
   "metadata": {},
   "outputs": [],
   "source": [
    "for state, (x0, x1, y0, y1, z0, z1) in zip(states, ranges):\n",
    "    cubes[xs[x0]:xs[x1+1], ys[y0]:ys[y1+1], zs[z0]:zs[z1+1]] = state"
   ]
  },
  {
   "cell_type": "markdown",
   "id": "arranged-occurrence",
   "metadata": {},
   "source": [
    "### Takes a little while"
   ]
  },
  {
   "cell_type": "code",
   "execution_count": 465,
   "id": "handy-cattle",
   "metadata": {},
   "outputs": [],
   "source": [
    "x_sizes = np.diff(sorted(xs.keys())).reshape(-1, 1, 1)\n",
    "y_sizes = np.diff(sorted(ys.keys())).reshape(1, -1, 1)\n",
    "z_sizes = np.diff(sorted(zs.keys())).reshape(1, 1, -1)\n",
    "volumes = x_sizes * y_sizes * z_sizes"
   ]
  },
  {
   "cell_type": "code",
   "execution_count": 468,
   "id": "improved-dallas",
   "metadata": {},
   "outputs": [
    {
     "data": {
      "text/plain": [
       "1237264238382479"
      ]
     },
     "execution_count": 468,
     "metadata": {},
     "output_type": "execute_result"
    }
   ],
   "source": [
    "result = (volumes * cubes[:-1, :-1, :-1]).sum()\n",
    "result"
   ]
  },
  {
   "cell_type": "code",
   "execution_count": 469,
   "id": "herbal-appliance",
   "metadata": {},
   "outputs": [
    {
     "name": "stdout",
     "output_type": "stream",
     "text": [
      "\u001b[32mThat's the right answer!  You are one gold star closer to finding the sleigh keys.You have completed Day 22! You can [Shareon\n",
      "  Twitter\n",
      "Mastodon] this victory or [Return to Your Advent Calendar].\u001b[0m\n"
     ]
    }
   ],
   "source": [
    "puzzle.answer_b = result"
   ]
  }
 ],
 "metadata": {
  "kernelspec": {
   "display_name": "DataScience",
   "language": "python",
   "name": "datascience"
  },
  "language_info": {
   "codemirror_mode": {
    "name": "ipython",
    "version": 3
   },
   "file_extension": ".py",
   "mimetype": "text/x-python",
   "name": "python",
   "nbconvert_exporter": "python",
   "pygments_lexer": "ipython3",
   "version": "3.9.1"
  }
 },
 "nbformat": 4,
 "nbformat_minor": 5
}
