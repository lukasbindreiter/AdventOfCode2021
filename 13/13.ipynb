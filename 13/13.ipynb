{
 "cells": [
  {
   "cell_type": "code",
   "execution_count": 3,
   "id": "going-germany",
   "metadata": {},
   "outputs": [],
   "source": [
    "import numpy as np\n",
    "import webbrowser\n",
    "from aocd.models import Puzzle\n",
    "import re\n",
    "import itertools\n",
    "from scipy.ndimage.filters import minimum_filter\n",
    "from scipy.ndimage import label\n",
    "import matplotlib.pyplot as plt\n",
    "from collections import defaultdict\n",
    "%matplotlib inline\n",
    "puzzle = Puzzle(year=2021, day=13)"
   ]
  },
  {
   "cell_type": "code",
   "execution_count": 4,
   "id": "rough-litigation",
   "metadata": {},
   "outputs": [],
   "source": [
    "webbrowser.open(puzzle.url);"
   ]
  },
  {
   "cell_type": "markdown",
   "id": "interim-malawi",
   "metadata": {},
   "source": [
    "## Part 1"
   ]
  },
  {
   "cell_type": "code",
   "execution_count": 78,
   "id": "square-leone",
   "metadata": {},
   "outputs": [],
   "source": [
    "input_data = \"\"\"\n",
    "6,10\n",
    "0,14\n",
    "9,10\n",
    "0,3\n",
    "10,4\n",
    "4,11\n",
    "6,0\n",
    "6,12\n",
    "4,1\n",
    "0,13\n",
    "10,12\n",
    "3,4\n",
    "3,0\n",
    "8,4\n",
    "1,10\n",
    "2,14\n",
    "8,10\n",
    "9,0\n",
    "\n",
    "fold along y=7\n",
    "fold along x=5\n",
    "\"\"\".strip()"
   ]
  },
  {
   "cell_type": "code",
   "execution_count": 96,
   "id": "amateur-exhibition",
   "metadata": {},
   "outputs": [],
   "source": [
    "input_data = puzzle.input_data"
   ]
  },
  {
   "cell_type": "code",
   "execution_count": 113,
   "id": "immune-commercial",
   "metadata": {},
   "outputs": [],
   "source": [
    "points, folds = input_data.split(\"\\n\\n\")\n",
    "points = np.asarray(list(map(int, re.findall(\"\\d+\", points)))).reshape(-1, 2)\n",
    "folds = folds.split(\"\\n\")\n",
    "folds = [re.match(\"fold along (x|y)=(\\d+)\", f).groups() for f in folds]\n",
    "folds = [(ax, int(p)) for ax, p in folds]"
   ]
  },
  {
   "cell_type": "code",
   "execution_count": 114,
   "id": "alike-sydney",
   "metadata": {},
   "outputs": [],
   "source": [
    "def fold(points, axis, fold_point):\n",
    "    points = points.copy()\n",
    "    axis = 1 if axis == \"y\" else 0\n",
    "    selected = points[:, axis] > fold_point\n",
    "    points[selected, axis] = fold_point - (points[selected, axis] - fold_point)\n",
    "    return points"
   ]
  },
  {
   "cell_type": "code",
   "execution_count": 115,
   "id": "traditional-lucas",
   "metadata": {},
   "outputs": [],
   "source": [
    "points = fold(points, *folds[0])"
   ]
  },
  {
   "cell_type": "code",
   "execution_count": 118,
   "id": "conservative-electricity",
   "metadata": {},
   "outputs": [
    {
     "data": {
      "text/plain": [
       "592"
      ]
     },
     "execution_count": 118,
     "metadata": {},
     "output_type": "execute_result"
    }
   ],
   "source": [
    "result = len(np.unique(points, axis=0))\n",
    "result"
   ]
  },
  {
   "cell_type": "code",
   "execution_count": 101,
   "id": "hidden-lightning",
   "metadata": {},
   "outputs": [
    {
     "name": "stdout",
     "output_type": "stream",
     "text": [
      "\u001b[32mThat's the right answer!  You are one gold star closer to finding the sleigh keys. [Continue to Part Two]\u001b[0m\n"
     ]
    }
   ],
   "source": [
    "puzzle.answer_a = result"
   ]
  },
  {
   "cell_type": "markdown",
   "id": "certain-uncertainty",
   "metadata": {},
   "source": [
    "## Part 2"
   ]
  },
  {
   "cell_type": "code",
   "execution_count": 102,
   "id": "driven-force",
   "metadata": {},
   "outputs": [],
   "source": [
    "for f in folds[1:]:  # first fold already done in Part 1\n",
    "    points = fold(points, *f)"
   ]
  },
  {
   "cell_type": "code",
   "execution_count": 103,
   "id": "quantitative-watts",
   "metadata": {},
   "outputs": [],
   "source": [
    "def rasterize(points):\n",
    "    max_x, max_y = points.max(0)\n",
    "    grid = np.zeros((max_y + 1, max_x + 1), int)\n",
    "    for x, y in points:\n",
    "        grid[y, x] = 1\n",
    "    return grid"
   ]
  },
  {
   "cell_type": "code",
   "execution_count": 105,
   "id": "quality-funeral",
   "metadata": {},
   "outputs": [],
   "source": [
    "grid = rasterize(points)"
   ]
  },
  {
   "cell_type": "code",
   "execution_count": 112,
   "id": "boolean-clinic",
   "metadata": {},
   "outputs": [
    {
     "data": {
      "image/png": "[encoded data removed]",
      "text/plain": [
       "<Figure size 720x432 with 1 Axes>"
      ]
     },
     "metadata": {
      "needs_background": "light"
     },
     "output_type": "display_data"
    }
   ],
   "source": [
    "plt.imshow(grid, interpolation=\"none\", cmap=\"Blues\");\n",
    "plt.gcf().set_size_inches(10, 6)"
   ]
  },
  {
   "cell_type": "code",
   "execution_count": 119,
   "id": "academic-jaguar",
   "metadata": {},
   "outputs": [],
   "source": [
    "# fancy ocr for automatic code detection\n",
    "from advent_of_code_ocr import convert_6"
   ]
  },
  {
   "cell_type": "code",
   "execution_count": 141,
   "id": "consistent-bacon",
   "metadata": {},
   "outputs": [],
   "source": [
    "ascii = \"\\n\".join([\"\".join(line) for line in np.where(grid, \"#\", \".\")])"
   ]
  },
  {
   "cell_type": "code",
   "execution_count": 143,
   "id": "banned-pavilion",
   "metadata": {},
   "outputs": [
    {
     "data": {
      "text/plain": [
       "'JGAJEFKU'"
      ]
     },
     "execution_count": 143,
     "metadata": {},
     "output_type": "execute_result"
    }
   ],
   "source": [
    "result = convert_6(ascii)\n",
    "result"
   ]
  },
  {
   "cell_type": "code",
   "execution_count": 107,
   "id": "tropical-rebecca",
   "metadata": {},
   "outputs": [
    {
     "name": "stdout",
     "output_type": "stream",
     "text": [
      "\u001b[32mThat's the right answer!  You are one gold star closer to finding the sleigh keys.You have completed Day 13! You can [Shareon\n",
      "  Twitter\n",
      "Mastodon] this victory or [Return to Your Advent Calendar].\u001b[0m\n"
     ]
    }
   ],
   "source": [
    "puzzle.answer_b = result"
   ]
  }
 ],
 "metadata": {
  "kernelspec": {
   "display_name": "DataScience",
   "language": "python",
   "name": "datascience"
  },
  "language_info": {
   "codemirror_mode": {
    "name": "ipython",
    "version": 3
   },
   "file_extension": ".py",
   "mimetype": "text/x-python",
   "name": "python",
   "nbconvert_exporter": "python",
   "pygments_lexer": "ipython3",
   "version": "3.9.1"
  }
 },
 "nbformat": 4,
 "nbformat_minor": 5
}
