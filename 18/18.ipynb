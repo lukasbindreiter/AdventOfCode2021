{
 "cells": [
  {
   "cell_type": "code",
   "execution_count": 1,
   "id": "floppy-alliance",
   "metadata": {},
   "outputs": [],
   "source": [
    "import numpy as np\n",
    "import webbrowser\n",
    "from aocd.models import Puzzle\n",
    "import re\n",
    "from dataclasses import dataclass\n",
    "import json\n",
    "from collections import defaultdict\n",
    "from typing import Optional\n",
    "%matplotlib inline\n",
    "puzzle = Puzzle(year=2021, day=18)"
   ]
  },
  {
   "cell_type": "code",
   "execution_count": 2,
   "id": "wrapped-salmon",
   "metadata": {},
   "outputs": [],
   "source": [
    "webbrowser.open(puzzle.url);"
   ]
  },
  {
   "cell_type": "markdown",
   "id": "resident-belief",
   "metadata": {},
   "source": [
    "## Part 1"
   ]
  },
  {
   "cell_type": "code",
   "execution_count": 2,
   "id": "absent-richards",
   "metadata": {},
   "outputs": [],
   "source": [
    "input_data = \"\"\"\n",
    "[1,2]\n",
    "[[1,2],3]\n",
    "[9,[8,7]]\n",
    "[[1,9],[8,5]]\n",
    "[[[[1,2],[3,4]],[[5,6],[7,8]]],9]\n",
    "[[[9,[3,8]],[[0,9],6]],[[[3,7],[4,9]],3]]\n",
    "[[[[1,3],[5,3]],[[1,3],[8,7]]],[[[4,9],[6,9]],[[8,2],[7,3]]]]\n",
    "\"\"\".strip()"
   ]
  },
  {
   "cell_type": "code",
   "execution_count": 7,
   "id": "advance-teddy",
   "metadata": {},
   "outputs": [],
   "source": [
    "@dataclass\n",
    "class Node:\n",
    "    left: \"Node\"\n",
    "    right: \"Node\"\n",
    "    parent: Optional[\"Node\"] = None\n",
    "\n",
    "@dataclass\n",
    "class Val:\n",
    "    val: int\n",
    "    parent: Optional[Node] = None\n",
    "    left_ngbr: Optional[\"Val\"] = None\n",
    "    right_ngbr: Optional[\"Val\"] = None\n",
    "    \n",
    "    def __str__(self):\n",
    "        return str(self.val)\n",
    "    \n",
    "    def __repr__(self):\n",
    "        return str(self)"
   ]
  },
  {
   "cell_type": "code",
   "execution_count": 8,
   "id": "living-royal",
   "metadata": {},
   "outputs": [],
   "source": [
    "def tree_from_input(line):\n",
    "    data = json.loads(line)\n",
    "    return _generate_tree(data)\n",
    "    \n",
    "def _generate_tree(data):\n",
    "    if isinstance(data, int):\n",
    "        return Val(data)\n",
    "    else:\n",
    "        assert len(data) == 2\n",
    "        return Node(_generate_tree(data[0]), _generate_tree(data[1]))"
   ]
  },
  {
   "cell_type": "code",
   "execution_count": 9,
   "id": "hungarian-burlington",
   "metadata": {},
   "outputs": [],
   "source": [
    "def traverse_tree(tree, depth: int = 0):\n",
    "    yield tree, depth\n",
    "    if isinstance(tree, Node):\n",
    "        yield from traverse_tree(tree.left, depth + 1)\n",
    "        yield from traverse_tree(tree.right, depth + 1)"
   ]
  },
  {
   "cell_type": "code",
   "execution_count": 10,
   "id": "terminal-central",
   "metadata": {},
   "outputs": [],
   "source": [
    "def print_tree(tree):\n",
    "    out = \"\"\n",
    "    if isinstance(tree, Node):\n",
    "        out += \"[\" + print_tree(tree.left) + \",\" + print_tree(tree.right) + \"]\"\n",
    "    else:\n",
    "        out += str(tree.val)\n",
    "    return out"
   ]
  },
  {
   "cell_type": "code",
   "execution_count": 17,
   "id": "arranged-egyptian",
   "metadata": {},
   "outputs": [],
   "source": [
    "def _assign_neighbours(tree: Node):\n",
    "    prev = None\n",
    "    for item, _ in traverse_tree(tree):\n",
    "        if isinstance(item, Val):\n",
    "            item.left_ngbr = prev\n",
    "            if prev is not None:\n",
    "                prev.right_ngbr = item\n",
    "            prev = item\n",
    "\n",
    "\n",
    "def _assign_parents(tree, parent = None):\n",
    "    tree.parent = parent\n",
    "    if isinstance(tree, Node):\n",
    "        _assign_parents(tree.left, tree)\n",
    "        _assign_parents(tree.right, tree)\n",
    "\n",
    "def assign(tree):\n",
    "    _assign_neighbours(tree)\n",
    "    _assign_parents(tree)"
   ]
  },
  {
   "cell_type": "code",
   "execution_count": 18,
   "id": "closing-season",
   "metadata": {},
   "outputs": [],
   "source": [
    "def explode_action(tree):\n",
    "    for node, depth in traverse_tree(tree):\n",
    "        if isinstance(node, Val) and depth >= 5:\n",
    "            pair = node.parent\n",
    "            left, right = pair.left, pair.right\n",
    "            # we are only interested in pairs where both the left and right are already values and no further nodes\n",
    "            if not isinstance(left, Val) or not isinstance(right, Val):\n",
    "                continue\n",
    "            if left.left_ngbr is not None:\n",
    "                left.left_ngbr.val += left.val\n",
    "            if right.right_ngbr is not None:\n",
    "                right.right_ngbr.val += right.val\n",
    "            \n",
    "            if pair.parent.left == pair:\n",
    "                pair.parent.left = Val(0)\n",
    "            else:\n",
    "                pair.parent.right = Val(0)\n",
    "            \n",
    "            return True  # exploded something\n",
    "    \n",
    "    return False  # nothing exploded"
   ]
  },
  {
   "cell_type": "markdown",
   "id": "adolescent-third",
   "metadata": {},
   "source": [
    "### Some tests for explode"
   ]
  },
  {
   "cell_type": "code",
   "execution_count": 19,
   "id": "young-notification",
   "metadata": {},
   "outputs": [],
   "source": [
    "explode_tests = {\n",
    "    \"[[[[[9,8],1],2],3],4]\": \"[[[[0,9],2],3],4]\",\n",
    "    \"[7,[6,[5,[4,[3,2]]]]]\": \"[7,[6,[5,[7,0]]]]\",\n",
    "    \"[[6,[5,[4,[3,2]]]],1]\": \"[[6,[5,[7,0]]],3]\",\n",
    "    \"[[3,[2,[1,[7,3]]]],[6,[5,[4,[3,2]]]]]\": \"[[3,[2,[8,0]]],[9,[5,[4,[3,2]]]]]\",\n",
    "    \"[[3,[2,[8,0]]],[9,[5,[4,[3,2]]]]]\": \"[[3,[2,[8,0]]],[9,[5,[7,0]]]]\"\n",
    "}\n",
    "\n",
    "for test_in, test_out in explode_tests.items():\n",
    "    tree = tree_from_input(test_in)\n",
    "    assign(tree)\n",
    "    assert explode_action(tree)\n",
    "    assert print_tree(tree) == test_out"
   ]
  },
  {
   "cell_type": "code",
   "execution_count": 24,
   "id": "twenty-eagle",
   "metadata": {},
   "outputs": [],
   "source": [
    "def split_action(tree):\n",
    "    for node, _ in traverse_tree(tree):\n",
    "        if isinstance(node, Val) and node.val >= 10:\n",
    "            new_node = Node(Val(node.val // 2), Val((node.val + 1) // 2))\n",
    "            if node.parent.left == node:\n",
    "                node.parent.left = new_node\n",
    "            else:\n",
    "                node.parent.right = new_node\n",
    "            return True  # splitted something\n",
    "    return False  # nothing splitted"
   ]
  },
  {
   "cell_type": "code",
   "execution_count": null,
   "id": "sought-latvia",
   "metadata": {},
   "outputs": [],
   "source": []
  },
  {
   "cell_type": "code",
   "execution_count": 28,
   "id": "utility-snapshot",
   "metadata": {},
   "outputs": [],
   "source": [
    "def add(trees):\n",
    "    result = trees[0]\n",
    "    for tree in trees[1:]:\n",
    "        result = add2(result, tree)\n",
    "    return result\n",
    "\n",
    "def add2(tree1, tree2):\n",
    "    tree = Node(tree1, tree2)\n",
    "    tree = reduce(tree)\n",
    "    return tree\n",
    "\n",
    "def reduce(tree):\n",
    "    while True:\n",
    "        assign(tree)\n",
    "        if explode_action(tree):  # something exploded, check if we can explode again\n",
    "            continue\n",
    "        elif split_action(tree):  # nothing exploded, check if we can explode / split again\n",
    "            continue\n",
    "        else:  # finished\n",
    "            return tree"
   ]
  },
  {
   "cell_type": "code",
   "execution_count": 29,
   "id": "olive-telling",
   "metadata": {},
   "outputs": [],
   "source": [
    "add_tests = {\n",
    "    \"\"\"\n",
    "[[[[4,3],4],4],[7,[[8,4],9]]]\n",
    "[1,1]\n",
    "    \"\"\".strip(): \"[[[[0,7],4],[[7,8],[6,0]]],[8,1]]\",\n",
    "    \"\"\"\n",
    "[1,1]\n",
    "[2,2]\n",
    "[3,3]\n",
    "[4,4]\n",
    "    \"\"\".strip(): \"[[[[1,1],[2,2]],[3,3]],[4,4]]\",\n",
    "    \"\"\"\n",
    "[1,1]\n",
    "[2,2]\n",
    "[3,3]\n",
    "[4,4]\n",
    "[5,5]\n",
    "    \"\"\".strip(): \"[[[[3,0],[5,3]],[4,4]],[5,5]]\",\n",
    "    \"\"\"\n",
    "[1,1]\n",
    "[2,2]\n",
    "[3,3]\n",
    "[4,4]\n",
    "[5,5]\n",
    "[6,6]\n",
    "    \"\"\".strip(): \"[[[[5,0],[7,4]],[5,5]],[6,6]]\",\n",
    "\"\"\"\n",
    "[[[0,[4,5]],[0,0]],[[[4,5],[2,6]],[9,5]]]\n",
    "[7,[[[3,7],[4,3]],[[6,3],[8,8]]]]\n",
    "[[2,[[0,8],[3,4]]],[[[6,7],1],[7,[1,6]]]]\n",
    "[[[[2,4],7],[6,[0,5]]],[[[6,8],[2,8]],[[2,1],[4,5]]]]\n",
    "[7,[5,[[3,8],[1,4]]]]\n",
    "[[2,[2,2]],[8,[8,1]]]\n",
    "[2,9]\n",
    "[1,[[[9,3],9],[[9,0],[0,7]]]]\n",
    "[[[5,[7,4]],7],1]\n",
    "[[[[4,2],2],6],[8,7]]\n",
    "\"\"\".strip(): \"[[[[8,7],[7,7]],[[8,6],[7,7]]],[[[0,7],[6,6]],[8,7]]]\"\n",
    "}"
   ]
  },
  {
   "cell_type": "code",
   "execution_count": 31,
   "id": "fatal-metropolitan",
   "metadata": {},
   "outputs": [],
   "source": [
    "for test_in, test_out in add_tests.items():\n",
    "    test_lines = test_in.split(\"\\n\")\n",
    "    test_trees = [tree_from_input(l) for l in test_lines]\n",
    "    test_result = add(test_trees)\n",
    "    assert print_tree(test_result) == test_out"
   ]
  },
  {
   "cell_type": "code",
   "execution_count": 33,
   "id": "mental-dictionary",
   "metadata": {},
   "outputs": [],
   "source": [
    "def magnitude(tree):\n",
    "    if isinstance(tree, Node):\n",
    "        return 3*magnitude(tree.left) + 2*magnitude(tree.right)\n",
    "    return tree.val"
   ]
  },
  {
   "cell_type": "code",
   "execution_count": 37,
   "id": "looking-yellow",
   "metadata": {},
   "outputs": [],
   "source": [
    "test_magnitude = {\n",
    "    \"[[1,2],[[3,4],5]]\": 143,\n",
    "    \"[[[[8,7],[7,7]],[[8,6],[7,7]]],[[[0,7],[6,6]],[8,7]]]\": 3488\n",
    "}"
   ]
  },
  {
   "cell_type": "code",
   "execution_count": 38,
   "id": "lesser-chain",
   "metadata": {},
   "outputs": [],
   "source": [
    "for test_in, test_out in test_magnitude.items():\n",
    "    assert magnitude(tree_from_input(test_in)) == test_out"
   ]
  },
  {
   "cell_type": "code",
   "execution_count": null,
   "id": "sufficient-dietary",
   "metadata": {},
   "outputs": [],
   "source": []
  },
  {
   "cell_type": "markdown",
   "id": "obvious-performance",
   "metadata": {},
   "source": [
    "### Now for the actual input"
   ]
  },
  {
   "cell_type": "code",
   "execution_count": 47,
   "id": "similar-genealogy",
   "metadata": {},
   "outputs": [],
   "source": [
    "input_data = puzzle.input_data\n",
    "lines = input_data.split(\"\\n\")\n",
    "trees = [tree_from_input(l) for l in lines]"
   ]
  },
  {
   "cell_type": "code",
   "execution_count": 48,
   "id": "found-climb",
   "metadata": {},
   "outputs": [
    {
     "data": {
      "text/plain": [
       "3675"
      ]
     },
     "execution_count": 48,
     "metadata": {},
     "output_type": "execute_result"
    }
   ],
   "source": [
    "result_tree = add(trees)\n",
    "result = magnitude(result_tree)\n",
    "result"
   ]
  },
  {
   "cell_type": "code",
   "execution_count": 49,
   "id": "promotional-trinity",
   "metadata": {},
   "outputs": [
    {
     "name": "stdout",
     "output_type": "stream",
     "text": [
      "\u001b[32mThat's the right answer!  You are one gold star closer to finding the sleigh keys. [Continue to Part Two]\u001b[0m\n"
     ]
    }
   ],
   "source": [
    "puzzle.answer_a = result"
   ]
  },
  {
   "cell_type": "markdown",
   "id": "pharmaceutical-groove",
   "metadata": {},
   "source": [
    "## Part 2"
   ]
  },
  {
   "cell_type": "code",
   "execution_count": 65,
   "id": "simplified-overall",
   "metadata": {},
   "outputs": [],
   "source": [
    "from itertools import combinations\n",
    "from tqdm.auto import tqdm"
   ]
  },
  {
   "cell_type": "code",
   "execution_count": 62,
   "id": "cutting-drama",
   "metadata": {},
   "outputs": [
    {
     "data": {
      "text/plain": [
       "4950"
      ]
     },
     "execution_count": 62,
     "metadata": {},
     "output_type": "execute_result"
    }
   ],
   "source": [
    "pairs = list(combinations(lines, 2))\n",
    "len(pairs)  # check how many combinations we need to check"
   ]
  },
  {
   "cell_type": "code",
   "execution_count": 71,
   "id": "angry-removal",
   "metadata": {},
   "outputs": [
    {
     "data": {
      "application/vnd.jupyter.widget-view+json": {
       "model_id": "b5f836b9b41d4d8d92267a7c56660ee5",
       "version_major": 2,
       "version_minor": 0
      },
      "text/plain": [
       "  0%|          | 0/4950 [00:00<?, ?it/s]"
      ]
     },
     "metadata": {},
     "output_type": "display_data"
    }
   ],
   "source": [
    "largest_mag = -np.inf\n",
    "\n",
    "def calc_result_magnitude(a, b):\n",
    "    tree = add([tree_from_input(a), tree_from_input(b)])\n",
    "    return magnitude(tree)\n",
    "\n",
    "for a, b in tqdm(pairs):\n",
    "    m = calc_result_magnitude(a, b)\n",
    "    if m > largest_mag:\n",
    "        largest_mag = m\n",
    "    \n",
    "    m = calc_result_magnitude(b, a)\n",
    "    if m > largest_mag:\n",
    "        largest_mag = m"
   ]
  },
  {
   "cell_type": "code",
   "execution_count": 72,
   "id": "removable-philip",
   "metadata": {},
   "outputs": [
    {
     "data": {
      "text/plain": [
       "4650"
      ]
     },
     "execution_count": 72,
     "metadata": {},
     "output_type": "execute_result"
    }
   ],
   "source": [
    "result = largest_mag\n",
    "result"
   ]
  },
  {
   "cell_type": "code",
   "execution_count": 73,
   "id": "olympic-worry",
   "metadata": {},
   "outputs": [
    {
     "name": "stdout",
     "output_type": "stream",
     "text": [
      "\u001b[32mThat's the right answer!  You are one gold star closer to finding the sleigh keys.You have completed Day 18! You can [Shareon\n",
      "  Twitter\n",
      "Mastodon] this victory or [Return to Your Advent Calendar].\u001b[0m\n"
     ]
    }
   ],
   "source": [
    "puzzle.answer_b = result"
   ]
  }
 ],
 "metadata": {
  "kernelspec": {
   "display_name": "DataScience",
   "language": "python",
   "name": "datascience"
  },
  "language_info": {
   "codemirror_mode": {
    "name": "ipython",
    "version": 3
   },
   "file_extension": ".py",
   "mimetype": "text/x-python",
   "name": "python",
   "nbconvert_exporter": "python",
   "pygments_lexer": "ipython3",
   "version": "3.9.1"
  }
 },
 "nbformat": 4,
 "nbformat_minor": 5
}
