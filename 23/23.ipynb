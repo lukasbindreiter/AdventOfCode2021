{
 "cells": [
  {
   "cell_type": "code",
   "execution_count": 1,
   "id": "diverse-sympathy",
   "metadata": {},
   "outputs": [],
   "source": [
    "import numpy as np\n",
    "import webbrowser\n",
    "from aocd.models import Puzzle\n",
    "from scipy.signal import correlate2d\n",
    "import matplotlib.pyplot as plt\n",
    "from tqdm.auto import tqdm\n",
    "import re\n",
    "%matplotlib inline\n",
    "puzzle = Puzzle(year=2021, day=23)"
   ]
  },
  {
   "cell_type": "code",
   "execution_count": 2,
   "id": "raised-diesel",
   "metadata": {},
   "outputs": [],
   "source": [
    "webbrowser.open(puzzle.url);"
   ]
  },
  {
   "cell_type": "markdown",
   "id": "personalized-subscriber",
   "metadata": {},
   "source": [
    "## Part 1"
   ]
  },
  {
   "cell_type": "code",
   "execution_count": 632,
   "id": "selective-extreme",
   "metadata": {},
   "outputs": [],
   "source": [
    "test_input_data = \"\"\"\n",
    "#############\n",
    "#...........#\n",
    "###B#C#B#D###\n",
    "  #A#D#C#A#\n",
    "  #########\n",
    "\"\"\".strip()"
   ]
  },
  {
   "cell_type": "code",
   "execution_count": 616,
   "id": "natural-joyce",
   "metadata": {},
   "outputs": [],
   "source": [
    "neighbours = {\n",
    "    15: [(16, 1)],\n",
    "    16: [(15, 1), (18, 2), (31, 2)],\n",
    "    18: [(16, 2), (31, 2), (33, 2), (20, 2)],\n",
    "    20: [(18, 2), (22, 2), (33, 2), (35, 2)],\n",
    "    22: [(20, 2), (24, 2), (35, 2), (37, 2)],\n",
    "    24: [(22, 2), (25, 1), (37, 2)],\n",
    "    25: [(24, 1)],\n",
    "    31: [(16, 2), (18, 2), (45, 1)],\n",
    "    33: [(18, 2), (20, 2), (47, 1)],\n",
    "    35: [(20, 2), (22, 2), (49, 1)],\n",
    "    37: [(22, 2), (24, 2), (51, 1)],\n",
    "    45: [(31, 1)],\n",
    "    47: [(33, 1)],\n",
    "    49: [(35, 1)],\n",
    "    51: [(37, 1)],\n",
    "}\n",
    "\n",
    "rooms = {\n",
    "    \"hallway\": {15, 16, 18, 20, 22, 24, 25},\n",
    "    \"A\": {31, 45},\n",
    "    \"B\": {33, 47},\n",
    "    \"C\": {35, 49},\n",
    "    \"D\": {37, 51}\n",
    "}\n",
    "\n",
    "energy = {\"A\": 1, \"B\": 10, \"C\": 100, \"D\": 1000}"
   ]
  },
  {
   "cell_type": "code",
   "execution_count": 617,
   "id": "operational-filling",
   "metadata": {},
   "outputs": [],
   "source": [
    "paths = {}\n",
    "def generate_path(path, total_dist):\n",
    "    if len(path) >= 2:\n",
    "        path_key = (path[0], path[-1])\n",
    "        if path_key in paths:  # already have a path, check if the new one is shorter\n",
    "            curr_path, curr_dist = paths[path_key]\n",
    "            if total_dist < curr_dist:\n",
    "                paths[(path[0], path[-1])] = path[:], total_dist\n",
    "        else:  # a new path\n",
    "            paths[(path[0], path[-1])] = path[:], total_dist\n",
    "\n",
    "    for neigh, dist in neighbours[path[-1]]:\n",
    "        if neigh in path:  # already part of the path\n",
    "            continue\n",
    "        path.append(neigh)\n",
    "        generate_path(path, total_dist + dist)\n",
    "        path.pop()\n",
    "\n",
    "for room in neighbours:\n",
    "    generate_path([room], 0)"
   ]
  },
  {
   "cell_type": "code",
   "execution_count": 618,
   "id": "nervous-training",
   "metadata": {},
   "outputs": [],
   "source": [
    "def find(s, ch):\n",
    "    return [i for i, c in enumerate(s) if c == ch]"
   ]
  },
  {
   "cell_type": "code",
   "execution_count": null,
   "id": "greatest-sailing",
   "metadata": {},
   "outputs": [],
   "source": []
  },
  {
   "cell_type": "code",
   "execution_count": 633,
   "id": "disturbed-clinic",
   "metadata": {},
   "outputs": [],
   "source": [
    "def initial_positions(input_data):\n",
    "    positions = {}\n",
    "    for ch in [\"A\", \"B\", \"C\", \"D\"]:\n",
    "        for i in find(input_data, ch):\n",
    "            positions[i] = ch\n",
    "    return positions"
   ]
  },
  {
   "cell_type": "code",
   "execution_count": 634,
   "id": "smooth-management",
   "metadata": {},
   "outputs": [],
   "source": [
    "def is_blocking(positions, room_ch, pos):\n",
    "    min_pos, max_pos = min(rooms[room_ch]), max(rooms[room_ch])\n",
    "    return pos == min_pos and positions.get(max_pos) != room_ch"
   ]
  },
  {
   "cell_type": "code",
   "execution_count": 635,
   "id": "handed-journal",
   "metadata": {},
   "outputs": [],
   "source": [
    "def is_room_free(positions, room_ch):\n",
    "    for pos in rooms[room_ch]:\n",
    "        if positions.get(pos, room_ch) != room_ch:\n",
    "            return False\n",
    "    return True"
   ]
  },
  {
   "cell_type": "code",
   "execution_count": 636,
   "id": "transparent-rings",
   "metadata": {},
   "outputs": [],
   "source": [
    "def is_path_free(positions, path):\n",
    "    for pos in path[1:]:\n",
    "        if pos in positions:\n",
    "            return False\n",
    "    return True"
   ]
  },
  {
   "cell_type": "code",
   "execution_count": 637,
   "id": "accompanied-cyprus",
   "metadata": {},
   "outputs": [],
   "source": [
    "def is_finished(positions):\n",
    "    for pos, ch in positions.items():\n",
    "        if pos not in rooms[ch]:\n",
    "            return False\n",
    "    return True"
   ]
  },
  {
   "cell_type": "code",
   "execution_count": 638,
   "id": "standing-formation",
   "metadata": {},
   "outputs": [],
   "source": [
    "import heapq\n",
    "\n",
    "class MinHeap:\n",
    "    def __init__(self, key, data=()):\n",
    "        self.key = key\n",
    "        self.heap = [(self.key(d), d) for d in data]\n",
    "        heapq.heapify(self.heap)\n",
    "\n",
    "    def push(self, item):\n",
    "        decorated = self.key(item), item\n",
    "        heapq.heappush(self.heap, decorated)\n",
    "\n",
    "    def pop(self):\n",
    "        decorated = heapq.heappop(self.heap)\n",
    "        return decorated[1]\n",
    "\n",
    "    def pushpop(self, item):\n",
    "        decorated = self.key(item), item\n",
    "        dd = heapq.heappushpop(self.heap, decorated)\n",
    "        return dd[1]\n",
    "\n",
    "    def replace(self, item):\n",
    "        decorated = self.key(item), item\n",
    "        dd = heapq.heapreplace(self.heap, decorated)\n",
    "        return dd[1]\n",
    "\n",
    "    def __len__(self):\n",
    "        return len(self.heap)"
   ]
  },
  {
   "cell_type": "code",
   "execution_count": 639,
   "id": "sacred-briefs",
   "metadata": {},
   "outputs": [],
   "source": [
    "def solve(initial_positions):\n",
    "    heap = MinHeap(lambda p: p[0])\n",
    "    heap.push((0, tuple(initial_positions.items())))\n",
    "    seen = set()\n",
    "\n",
    "    while True:\n",
    "        curr_cost, positions = heap.pop()\n",
    "        if positions in seen:\n",
    "            continue  # we had that already, lets avoid loops\n",
    "        seen.add(positions)\n",
    "        positions = dict(positions)\n",
    "        if is_finished(positions):\n",
    "            return curr_cost\n",
    "\n",
    "        for pos, ch in tuple(positions.items()):\n",
    "            if pos in rooms[ch] and not is_blocking(positions, ch, pos):  # we are already in our target location\n",
    "                continue\n",
    "            if pos in rooms[\"hallway\"]:  # we are in the hallway\n",
    "                # from the hallway we can only move in our target room, but only if it is free\n",
    "                if not is_room_free(positions, ch):  # no valid move here\n",
    "                    continue\n",
    "                room_pos = max(rooms[ch])\n",
    "                if room_pos in positions:  # lower spot already occupied\n",
    "                    room_pos = min(rooms[ch])\n",
    "                path, dist = paths[pos, room_pos]\n",
    "                if is_path_free(positions, path):\n",
    "                    new_pos = dict(positions)\n",
    "                    new_pos[room_pos] = ch\n",
    "                    del new_pos[pos]\n",
    "                    heap.push((curr_cost + dist * energy[ch], tuple(new_pos.items())))\n",
    "            else:  # we are in a room\n",
    "                for hallway_pos in rooms[\"hallway\"]:  # we can move somewhere to the hallway\n",
    "                    path, dist = paths[pos, hallway_pos]\n",
    "                    if is_path_free(positions, path):\n",
    "                        new_pos = dict(positions)\n",
    "                        new_pos[hallway_pos] = ch\n",
    "                        del new_pos[pos]\n",
    "                        heap.push((curr_cost + dist * energy[ch], tuple(new_pos.items())))\n"
   ]
  },
  {
   "cell_type": "code",
   "execution_count": 630,
   "id": "continental-officer",
   "metadata": {},
   "outputs": [
    {
     "data": {
      "text/plain": [
       "12521"
      ]
     },
     "execution_count": 630,
     "metadata": {},
     "output_type": "execute_result"
    }
   ],
   "source": [
    "result = solve(initial_positions(test_input_data))\n",
    "result"
   ]
  },
  {
   "cell_type": "code",
   "execution_count": 641,
   "id": "coordinate-capital",
   "metadata": {},
   "outputs": [
    {
     "name": "stdout",
     "output_type": "stream",
     "text": [
      "CPU times: user 1min 21s, sys: 958 ms, total: 1min 22s\n",
      "Wall time: 1min 22s\n"
     ]
    },
    {
     "data": {
      "text/plain": [
       "19059"
      ]
     },
     "execution_count": 641,
     "metadata": {},
     "output_type": "execute_result"
    }
   ],
   "source": [
    "%%time\n",
    "result = solve(initial_positions(puzzle.input_data))\n",
    "result"
   ]
  },
  {
   "cell_type": "code",
   "execution_count": 544,
   "id": "threaded-adolescent",
   "metadata": {},
   "outputs": [
    {
     "name": "stdout",
     "output_type": "stream",
     "text": [
      "\u001b[32mThat's the right answer!  You are one gold star closer to finding the sleigh keys. [Continue to Part Two]\u001b[0m\n"
     ]
    }
   ],
   "source": [
    "puzzle.answer_a = result"
   ]
  },
  {
   "cell_type": "markdown",
   "id": "orange-environment",
   "metadata": {},
   "source": [
    "## Part 2"
   ]
  },
  {
   "cell_type": "code",
   "execution_count": 629,
   "id": "accomplished-activation",
   "metadata": {},
   "outputs": [],
   "source": [
    "def augment_input(input_data):\n",
    "    lines = input_data.split(\"\\n\")\n",
    "    lines.insert(3, \"  #D#C#B#A#\")\n",
    "    lines.insert(4, \"  #D#B#A#C#\")\n",
    "    return \"\\n\".join(lines)"
   ]
  },
  {
   "cell_type": "code",
   "execution_count": 658,
   "id": "received-extra",
   "metadata": {},
   "outputs": [],
   "source": [
    "neighbours = {\n",
    "    15: [(16, 1)],\n",
    "    16: [(15, 1), (18, 2), (31, 2)],\n",
    "    18: [(16, 2), (31, 2), (33, 2), (20, 2)],\n",
    "    20: [(18, 2), (22, 2), (33, 2), (35, 2)],\n",
    "    22: [(20, 2), (24, 2), (35, 2), (37, 2)],\n",
    "    24: [(22, 2), (25, 1), (37, 2)],\n",
    "    25: [(24, 1)],\n",
    "    31: [(16, 2), (18, 2), (45, 1)],\n",
    "    33: [(18, 2), (20, 2), (47, 1)],\n",
    "    35: [(20, 2), (22, 2), (49, 1)],\n",
    "    37: [(22, 2), (24, 2), (51, 1)],\n",
    "    45: [(31, 1), (57, 1)],\n",
    "    47: [(33, 1), (59, 1)],\n",
    "    49: [(35, 1), (61, 1)],\n",
    "    51: [(37, 1), (63, 1)],\n",
    "    57: [(45, 1), (69, 1)],\n",
    "    59: [(47, 1), (71, 1)],\n",
    "    61: [(49, 1), (73, 1)],\n",
    "    63: [(51, 1), (75, 1)],\n",
    "    69: [(57, 1)],\n",
    "    71: [(59, 1)],\n",
    "    73: [(61, 1)],\n",
    "    75: [(63, 1)],\n",
    "}\n",
    "\n",
    "rooms = {\n",
    "    \"hallway\": {15, 16, 18, 20, 22, 24, 25},\n",
    "    \"A\": {31, 45, 57, 69},\n",
    "    \"B\": {33, 47, 59, 71},\n",
    "    \"C\": {35, 49, 61, 73},\n",
    "    \"D\": {37, 51, 63, 75}\n",
    "}\n",
    "\n",
    "energy = {\"A\": 1, \"B\": 10, \"C\": 100, \"D\": 1000}"
   ]
  },
  {
   "cell_type": "code",
   "execution_count": 659,
   "id": "progressive-luther",
   "metadata": {},
   "outputs": [],
   "source": [
    "paths = {}\n",
    "def generate_path(path, total_dist):\n",
    "    if len(path) >= 2:\n",
    "        path_key = (path[0], path[-1])\n",
    "        if path_key in paths:  # already have a path, check if the new one is shorter\n",
    "            curr_path, curr_dist = paths[path_key]\n",
    "            if total_dist < curr_dist:\n",
    "                paths[(path[0], path[-1])] = path[:], total_dist\n",
    "        else:  # a new path\n",
    "            paths[(path[0], path[-1])] = path[:], total_dist\n",
    "\n",
    "    for neigh, dist in neighbours[path[-1]]:\n",
    "        if neigh in path:  # already part of the path\n",
    "            continue\n",
    "        path.append(neigh)\n",
    "        generate_path(path, total_dist + dist)\n",
    "        path.pop()\n",
    "\n",
    "for room in neighbours:\n",
    "    generate_path([room], 0)"
   ]
  },
  {
   "cell_type": "code",
   "execution_count": 661,
   "id": "future-processing",
   "metadata": {},
   "outputs": [],
   "source": [
    "def is_blocking(positions, room_ch, pos):\n",
    "    min_pos, max_pos = min(rooms[room_ch]), max(rooms[room_ch])\n",
    "    for room_pos in rooms[room_ch]:\n",
    "        if room_pos > pos and positions.get(room_pos) != room_ch:\n",
    "            return True\n",
    "    return False"
   ]
  },
  {
   "cell_type": "code",
   "execution_count": 662,
   "id": "macro-latitude",
   "metadata": {},
   "outputs": [],
   "source": [
    "def is_room_free(positions, room_ch):\n",
    "    for pos in rooms[room_ch]:\n",
    "        if positions.get(pos, room_ch) != room_ch:\n",
    "            return False\n",
    "    return True"
   ]
  },
  {
   "cell_type": "code",
   "execution_count": 691,
   "id": "tested-cooler",
   "metadata": {},
   "outputs": [],
   "source": [
    "def get_furthest_free_room_pos(positions, room_ch):\n",
    "    for pos in sorted(rooms[room_ch], reverse=True):\n",
    "        if pos not in positions:\n",
    "            return pos"
   ]
  },
  {
   "cell_type": "code",
   "execution_count": 663,
   "id": "photographic-gazette",
   "metadata": {},
   "outputs": [],
   "source": [
    "def is_path_free(positions, path):\n",
    "    for pos in path[1:]:\n",
    "        if pos in positions:\n",
    "            return False\n",
    "    return True"
   ]
  },
  {
   "cell_type": "code",
   "execution_count": 664,
   "id": "applicable-fitting",
   "metadata": {},
   "outputs": [],
   "source": [
    "def is_finished(positions):\n",
    "    for pos, ch in positions.items():\n",
    "        if pos not in rooms[ch]:\n",
    "            return False\n",
    "    return True"
   ]
  },
  {
   "cell_type": "code",
   "execution_count": 703,
   "id": "owned-dragon",
   "metadata": {},
   "outputs": [],
   "source": [
    "def solve(initial_positions):\n",
    "    heap = MinHeap(lambda p: p[0])\n",
    "    heap.push((0, tuple(initial_positions.items())))\n",
    "    seen = set()\n",
    "\n",
    "    while True:\n",
    "        curr_cost, positions = heap.pop()\n",
    "        if len(heap) == 0:\n",
    "            print(curr_cost, positions)\n",
    "        if positions in seen:\n",
    "            continue  # we had that already, lets avoid loops\n",
    "        seen.add(positions)\n",
    "        positions = dict(positions)\n",
    "        if is_finished(positions):\n",
    "            return curr_cost\n",
    "\n",
    "        for pos, ch in tuple(positions.items()):\n",
    "            if pos in rooms[ch] and not is_blocking(positions, ch, pos):  # we are already in our target location\n",
    "                continue\n",
    "            if pos in rooms[\"hallway\"]:  # we are in the hallway\n",
    "                # from the hallway we can only move in our target room, but only if it is free\n",
    "                if not is_room_free(positions, ch):  # no valid move here\n",
    "                    continue\n",
    "                room_pos = get_furthest_free_room_pos(positions, ch)\n",
    "                path, dist = paths[pos, room_pos]\n",
    "                if is_path_free(positions, path):\n",
    "                    new_pos = dict(positions)\n",
    "                    new_pos[room_pos] = ch\n",
    "                    del new_pos[pos]\n",
    "                    heap.push((curr_cost + dist * energy[ch], tuple(new_pos.items())))\n",
    "            else:  # we are in a room\n",
    "                for hallway_pos in rooms[\"hallway\"]:  # we can move somewhere to the hallway\n",
    "                    path, dist = paths[pos, hallway_pos]\n",
    "                    if is_path_free(positions, path):\n",
    "                        new_pos = dict(positions)\n",
    "                        new_pos[hallway_pos] = ch\n",
    "                        del new_pos[pos]\n",
    "                        heap.push((curr_cost + dist * energy[ch], tuple(new_pos.items())))\n"
   ]
  },
  {
   "cell_type": "code",
   "execution_count": 687,
   "id": "silent-average",
   "metadata": {},
   "outputs": [],
   "source": [
    "def visualize(positions):\n",
    "    template = \"\"\"\n",
    "#############\n",
    "#...........#\n",
    "###.#.#.#.###\n",
    "  #.#.#.#.#\n",
    "  #.#.#.#.#\n",
    "  #.#.#.#.#\n",
    "  #########\n",
    "    \"\"\".strip()\n",
    "    out = \"\"\n",
    "    for i, ch in enumerate(template):\n",
    "        if i in positions:\n",
    "            out += positions[i]\n",
    "        else:\n",
    "            out += ch\n",
    "    return out"
   ]
  },
  {
   "cell_type": "code",
   "execution_count": 704,
   "id": "weekly-arkansas",
   "metadata": {},
   "outputs": [
    {
     "name": "stdout",
     "output_type": "stream",
     "text": [
      "0 ((51, 'A'), (61, 'A'), (69, 'A'), (75, 'A'), (31, 'B'), (35, 'B'), (49, 'B'), (59, 'B'), (33, 'C'), (47, 'C'), (63, 'C'), (73, 'C'), (37, 'D'), (45, 'D'), (57, 'D'), (71, 'D'))\n",
      "CPU times: user 2min 2s, sys: 1.31 s, total: 2min 4s\n",
      "Wall time: 2min 4s\n"
     ]
    },
    {
     "data": {
      "text/plain": [
       "44169"
      ]
     },
     "execution_count": 704,
     "metadata": {},
     "output_type": "execute_result"
    }
   ],
   "source": [
    "%%time\n",
    "result = solve(initial_positions(augment_input(test_input_data)))\n",
    "result"
   ]
  },
  {
   "cell_type": "code",
   "execution_count": 705,
   "id": "smaller-black",
   "metadata": {},
   "outputs": [
    {
     "name": "stdout",
     "output_type": "stream",
     "text": [
      "0 ((51, 'A'), (61, 'A'), (71, 'A'), (73, 'A'), (35, 'B'), (49, 'B'), (59, 'B'), (75, 'B'), (33, 'C'), (37, 'C'), (47, 'C'), (63, 'C'), (31, 'D'), (45, 'D'), (57, 'D'), (69, 'D'))\n",
      "CPU times: user 1min 37s, sys: 1.25 s, total: 1min 39s\n",
      "Wall time: 1min 39s\n"
     ]
    },
    {
     "data": {
      "text/plain": [
       "48541"
      ]
     },
     "execution_count": 705,
     "metadata": {},
     "output_type": "execute_result"
    }
   ],
   "source": [
    "%%time\n",
    "result = solve(initial_positions(augment_input(puzzle.input_data)))\n",
    "result"
   ]
  },
  {
   "cell_type": "code",
   "execution_count": 706,
   "id": "instructional-criterion",
   "metadata": {},
   "outputs": [
    {
     "name": "stdout",
     "output_type": "stream",
     "text": [
      "\u001b[32mThat's the right answer!  You are one gold star closer to finding the sleigh keys.You have completed Day 23! You can [Shareon\n",
      "  Twitter\n",
      "Mastodon] this victory or [Return to Your Advent Calendar].\u001b[0m\n"
     ]
    }
   ],
   "source": [
    "puzzle.answer_b = result"
   ]
  }
 ],
 "metadata": {
  "kernelspec": {
   "display_name": "DataScience",
   "language": "python",
   "name": "datascience"
  },
  "language_info": {
   "codemirror_mode": {
    "name": "ipython",
    "version": 3
   },
   "file_extension": ".py",
   "mimetype": "text/x-python",
   "name": "python",
   "nbconvert_exporter": "python",
   "pygments_lexer": "ipython3",
   "version": "3.9.1"
  }
 },
 "nbformat": 4,
 "nbformat_minor": 5
}
