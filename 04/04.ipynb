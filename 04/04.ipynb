{
 "cells": [
  {
   "cell_type": "code",
   "execution_count": 1,
   "id": "departmental-fancy",
   "metadata": {},
   "outputs": [],
   "source": [
    "import numpy as np\n",
    "import webbrowser\n",
    "from aocd.models import Puzzle\n",
    "from functools import reduce\n",
    "import numpy as np\n",
    "puzzle = Puzzle(year=2021, day=4)"
   ]
  },
  {
   "cell_type": "code",
   "execution_count": 2,
   "id": "defined-calvin",
   "metadata": {},
   "outputs": [],
   "source": [
    "webbrowser.open(puzzle.url);"
   ]
  },
  {
   "cell_type": "markdown",
   "id": "bacterial-blend",
   "metadata": {},
   "source": [
    "## Part 1"
   ]
  },
  {
   "cell_type": "code",
   "execution_count": 92,
   "id": "progressive-marijuana",
   "metadata": {},
   "outputs": [],
   "source": [
    "rows = puzzle.input_data.split(\"\\n\\n\")\n",
    "numbers = list(map(int, rows[0].split(\",\")))\n",
    "boards = np.fromstring(\" \".join(rows[1:]), sep=\" \", dtype=int).reshape(-1, 5, 5)"
   ]
  },
  {
   "cell_type": "code",
   "execution_count": 93,
   "id": "incident-penalty",
   "metadata": {},
   "outputs": [
    {
     "name": "stdout",
     "output_type": "stream",
     "text": [
      "73 41\n"
     ]
    }
   ],
   "source": [
    "marked = np.zeros_like(boards).astype(bool)\n",
    "\n",
    "for num in numbers:\n",
    "    marked = marked | (boards == num)\n",
    "    winning_board, = np.where((marked.sum(1).max(1) == 5) | (marked.sum(2).max(1) == 5))\n",
    "    \n",
    "    if winning_board.size >= 1:\n",
    "        print(winning_board.item(), num)\n",
    "        break"
   ]
  },
  {
   "cell_type": "code",
   "execution_count": 102,
   "id": "romance-physics",
   "metadata": {},
   "outputs": [],
   "source": [
    "sum_unmarked = (boards[winning_board] * (~marked[winning_board])).sum()"
   ]
  },
  {
   "cell_type": "code",
   "execution_count": 105,
   "id": "silent-paris",
   "metadata": {},
   "outputs": [],
   "source": [
    "result = sum_unmarked * num"
   ]
  },
  {
   "cell_type": "code",
   "execution_count": 106,
   "id": "impressive-steam",
   "metadata": {},
   "outputs": [
    {
     "data": {
      "text/plain": [
       "35670"
      ]
     },
     "execution_count": 106,
     "metadata": {},
     "output_type": "execute_result"
    }
   ],
   "source": [
    "result"
   ]
  },
  {
   "cell_type": "code",
   "execution_count": 107,
   "id": "normal-examination",
   "metadata": {},
   "outputs": [
    {
     "name": "stdout",
     "output_type": "stream",
     "text": [
      "\u001b[32mThat's the right answer!  You are one gold star closer to finding the sleigh keys. [Continue to Part Two]\u001b[0m\n"
     ]
    }
   ],
   "source": [
    "puzzle.answer_a = result"
   ]
  },
  {
   "cell_type": "markdown",
   "id": "expensive-halloween",
   "metadata": {},
   "source": [
    "## Part 2"
   ]
  },
  {
   "cell_type": "code",
   "execution_count": 109,
   "id": "dutch-theme",
   "metadata": {},
   "outputs": [
    {
     "name": "stdout",
     "output_type": "stream",
     "text": [
      "[ 0  1  2  3  4  5  6  7  8  9 10 11 12 13 14 15 16 17 18 19 20 21 22 23\n",
      " 24 25 26 27 28 29 30 31 32 33 34 35 36 37 38 39 40 41 42 43 44 45 46 47\n",
      " 48 49 50 51 52 53 54 55 56 57 58 59 60 61 62 63 64 65 66 67 68 69 70 71\n",
      " 72 73 74 75 76 77 78 79 80 81 82 83 84 85 86 87 88 89 90 91 92 93 94 95\n",
      " 96 97 98 99] 88\n"
     ]
    }
   ],
   "source": [
    "marked = np.zeros_like(boards).astype(bool)\n",
    "\n",
    "previous = None\n",
    "winning_board = None\n",
    "for num in numbers:\n",
    "    marked = marked | (boards == num)\n",
    "    previous = winning_board\n",
    "    winning_board, = np.where((marked.sum(1).max(1) == 5) | (marked.sum(2).max(1) == 5))\n",
    "    \n",
    "    if winning_board.size == len(boards):\n",
    "        print(winning_board, num)\n",
    "        break"
   ]
  },
  {
   "cell_type": "code",
   "execution_count": 113,
   "id": "foster-cleaning",
   "metadata": {},
   "outputs": [],
   "source": [
    "last_winner_board, = set(winning_board) - set(previous)"
   ]
  },
  {
   "cell_type": "code",
   "execution_count": 114,
   "id": "compatible-economics",
   "metadata": {},
   "outputs": [
    {
     "data": {
      "text/plain": [
       "14"
      ]
     },
     "execution_count": 114,
     "metadata": {},
     "output_type": "execute_result"
    }
   ],
   "source": [
    "last_winner_board"
   ]
  },
  {
   "cell_type": "code",
   "execution_count": 115,
   "id": "funny-complement",
   "metadata": {},
   "outputs": [],
   "source": [
    "sum_unmarked = (boards[last_winner_board] * (~marked[last_winner_board])).sum()"
   ]
  },
  {
   "cell_type": "code",
   "execution_count": 116,
   "id": "isolated-optics",
   "metadata": {},
   "outputs": [
    {
     "data": {
      "text/plain": [
       "258"
      ]
     },
     "execution_count": 116,
     "metadata": {},
     "output_type": "execute_result"
    }
   ],
   "source": [
    "sum_unmarked"
   ]
  },
  {
   "cell_type": "code",
   "execution_count": 118,
   "id": "surface-entity",
   "metadata": {},
   "outputs": [
    {
     "data": {
      "text/plain": [
       "22704"
      ]
     },
     "execution_count": 118,
     "metadata": {},
     "output_type": "execute_result"
    }
   ],
   "source": [
    "result = sum_unmarked * num\n",
    "result"
   ]
  },
  {
   "cell_type": "code",
   "execution_count": 119,
   "id": "positive-architect",
   "metadata": {},
   "outputs": [
    {
     "name": "stdout",
     "output_type": "stream",
     "text": [
      "\u001b[32mThat's the right answer!  You are one gold star closer to finding the sleigh keys.You have completed Day 4! You can [Shareon\n",
      "  Twitter\n",
      "Mastodon] this victory or [Return to Your Advent Calendar].\u001b[0m\n"
     ]
    }
   ],
   "source": [
    "puzzle.answer_b = result"
   ]
  }
 ],
 "metadata": {
  "kernelspec": {
   "display_name": "DataScience",
   "language": "python",
   "name": "datascience"
  },
  "language_info": {
   "codemirror_mode": {
    "name": "ipython",
    "version": 3
   },
   "file_extension": ".py",
   "mimetype": "text/x-python",
   "name": "python",
   "nbconvert_exporter": "python",
   "pygments_lexer": "ipython3",
   "version": "3.9.1"
  }
 },
 "nbformat": 4,
 "nbformat_minor": 5
}
