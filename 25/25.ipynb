{
 "cells": [
  {
   "cell_type": "code",
   "execution_count": 1,
   "id": "specialized-angola",
   "metadata": {},
   "outputs": [],
   "source": [
    "import numpy as np\n",
    "import webbrowser\n",
    "from aocd.models import Puzzle\n",
    "from scipy.signal import correlate2d\n",
    "import matplotlib.pyplot as plt\n",
    "from tqdm.auto import tqdm\n",
    "import re\n",
    "%matplotlib inline\n",
    "puzzle = Puzzle(year=2021, day=25)"
   ]
  },
  {
   "cell_type": "code",
   "execution_count": 2,
   "id": "suspended-sister",
   "metadata": {},
   "outputs": [],
   "source": [
    "webbrowser.open(puzzle.url);"
   ]
  },
  {
   "cell_type": "markdown",
   "id": "sunset-format",
   "metadata": {},
   "source": [
    "## Part 1"
   ]
  },
  {
   "cell_type": "code",
   "execution_count": 3,
   "id": "sorted-fifteen",
   "metadata": {},
   "outputs": [],
   "source": [
    "test_input_data = \"\"\"\n",
    "v...>>.vv>\n",
    ".vv>>.vv..\n",
    ">>.>v>...v\n",
    ">>v>>.>.v.\n",
    "v>v.vv.v..\n",
    ">.>>..v...\n",
    ".vv..>.>v.\n",
    "v.v..>>v.v\n",
    "....v..v.>\n",
    "\"\"\".strip()"
   ]
  },
  {
   "cell_type": "code",
   "execution_count": 22,
   "id": "received-snowboard",
   "metadata": {},
   "outputs": [],
   "source": [
    "def parse(data):\n",
    "    lines = data.split(\"\\n\")\n",
    "    data = data.replace(\"\\n\", \"\").replace(\".\", \"0\").replace(\">\", \"1\").replace(\"v\", \"2\")\n",
    "    return np.fromiter(map(int, data), int).reshape(-1, len(lines[0]))"
   ]
  },
  {
   "cell_type": "code",
   "execution_count": 73,
   "id": "alive-diving",
   "metadata": {},
   "outputs": [
    {
     "data": {
      "text/plain": [
       "array([[2, 0, 0, 0, 1, 1, 0, 2, 2, 1],\n",
       "       [0, 2, 2, 1, 1, 0, 2, 2, 0, 0],\n",
       "       [1, 1, 0, 1, 2, 1, 0, 0, 0, 2],\n",
       "       [1, 1, 2, 1, 1, 0, 1, 0, 2, 0],\n",
       "       [2, 1, 2, 0, 2, 2, 0, 2, 0, 0],\n",
       "       [1, 0, 1, 1, 0, 0, 2, 0, 0, 0],\n",
       "       [0, 2, 2, 0, 0, 1, 0, 1, 2, 0],\n",
       "       [2, 0, 2, 0, 0, 1, 1, 2, 0, 2],\n",
       "       [0, 0, 0, 0, 2, 0, 0, 2, 0, 1]])"
      ]
     },
     "execution_count": 73,
     "metadata": {},
     "output_type": "execute_result"
    }
   ],
   "source": [
    "map_ = parse(test_input_data)\n",
    "map_"
   ]
  },
  {
   "cell_type": "code",
   "execution_count": 78,
   "id": "minimal-layout",
   "metadata": {},
   "outputs": [],
   "source": [
    "def east_moves(map_):\n",
    "    kernel_east = [[0, 0, 1]]\n",
    "    east_free = correlate2d(np.pad(map_, ((0, 0), (1, 0))), kernel_east, \"same\")\n",
    "    east_free[:, -1] = east_free[:, 0]\n",
    "    east_free = east_free[:, 1:]\n",
    "    move_east = (east_free == 0) * (map_ == 1)\n",
    "    ys, xs = np.where(move_east)\n",
    "    map_[ys, xs] = 0\n",
    "    xs = (xs + 1) % map_.shape[1]\n",
    "    map_[ys, xs] = 1\n",
    "    return len(xs)"
   ]
  },
  {
   "cell_type": "code",
   "execution_count": 79,
   "id": "corporate-parts",
   "metadata": {},
   "outputs": [],
   "source": [
    "def south_moves(map_):\n",
    "    kernel_south = [[0], [0], [1]]\n",
    "    south_free = correlate2d(np.pad(map_, ((1, 0), (0, 0))), kernel_south, \"same\")\n",
    "    south_free[-1, :] = south_free[0, :]\n",
    "    south_free = south_free[1:, :]\n",
    "    move_south = (south_free == 0) * (map_ == 2)\n",
    "    ys, xs = np.where(move_south)\n",
    "    map_[ys, xs] = 0\n",
    "    ys = (ys + 1) % map_.shape[0]\n",
    "    map_[ys, xs] = 2\n",
    "    return len(xs)"
   ]
  },
  {
   "cell_type": "code",
   "execution_count": 86,
   "id": "young-dealing",
   "metadata": {},
   "outputs": [],
   "source": [
    "map_ = parse(puzzle.input_data)\n",
    "for i in range(1000):\n",
    "    east = east_moves(map_)\n",
    "    south = south_moves(map_)\n",
    "    if east + south == 0:\n",
    "        break"
   ]
  },
  {
   "cell_type": "code",
   "execution_count": 87,
   "id": "genuine-serbia",
   "metadata": {},
   "outputs": [
    {
     "data": {
      "text/plain": [
       "278"
      ]
     },
     "execution_count": 87,
     "metadata": {},
     "output_type": "execute_result"
    }
   ],
   "source": [
    "result = i + 1\n",
    "result"
   ]
  },
  {
   "cell_type": "code",
   "execution_count": 88,
   "id": "defined-tongue",
   "metadata": {},
   "outputs": [
    {
     "name": "stdout",
     "output_type": "stream",
     "text": [
      "\u001b[32mThat's the right answer!  You are one gold star closer to finding the sleigh keys. [Continue to Part Two]\u001b[0m\n"
     ]
    }
   ],
   "source": [
    "puzzle.answer_a = result"
   ]
  }
 ],
 "metadata": {
  "kernelspec": {
   "display_name": "DataScience",
   "language": "python",
   "name": "datascience"
  },
  "language_info": {
   "codemirror_mode": {
    "name": "ipython",
    "version": 3
   },
   "file_extension": ".py",
   "mimetype": "text/x-python",
   "name": "python",
   "nbconvert_exporter": "python",
   "pygments_lexer": "ipython3",
   "version": "3.9.1"
  }
 },
 "nbformat": 4,
 "nbformat_minor": 5
}
