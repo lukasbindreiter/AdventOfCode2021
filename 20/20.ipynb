{
 "cells": [
  {
   "cell_type": "code",
   "execution_count": 175,
   "id": "embedded-assignment",
   "metadata": {},
   "outputs": [],
   "source": [
    "import numpy as np\n",
    "import webbrowser\n",
    "from aocd.models import Puzzle\n",
    "from scipy.signal import correlate2d\n",
    "import matplotlib.pyplot as plt\n",
    "from tqdm.auto import tqdm\n",
    "%matplotlib inline\n",
    "puzzle = Puzzle(year=2021, day=20)"
   ]
  },
  {
   "cell_type": "code",
   "execution_count": 2,
   "id": "strategic-bulgaria",
   "metadata": {},
   "outputs": [],
   "source": [
    "webbrowser.open(puzzle.url);"
   ]
  },
  {
   "cell_type": "markdown",
   "id": "addressed-tribune",
   "metadata": {},
   "source": [
    "## Part 1"
   ]
  },
  {
   "cell_type": "code",
   "execution_count": 140,
   "id": "structural-parliament",
   "metadata": {},
   "outputs": [],
   "source": [
    "input_data = \"\"\"\n",
    "..#.#..#####.#.#.#.###.##.....###.##.#..###.####..#####..#....#..#..##..##\n",
    "#..######.###...####..#..#####..##..#.#####...##.#.#..#.##..#.#......#.###\n",
    ".######.###.####...#.##.##..#..#..#####.....#.#....###..#.##......#.....#.\n",
    ".#..#..##..#...##.######.####.####.#.#...#.......#..#.#.#...####.##.#.....\n",
    ".#..#...##.#.##..#...##.#.##..###.#......#.#.......#.#.#.####.###.##...#..\n",
    "...####.#..#..#.##.#....##..#.####....##...##..#...#......#.#.......#.....\n",
    "..##..####..#...#.#.#...##..#.#..###..#####........#..####......#..#\n",
    "\n",
    "#..#.\n",
    "#....\n",
    "##..#\n",
    "..#..\n",
    "..###\n",
    "\"\"\".strip()"
   ]
  },
  {
   "cell_type": "code",
   "execution_count": 168,
   "id": "developed-penguin",
   "metadata": {},
   "outputs": [],
   "source": [
    "input_data = puzzle.input_data"
   ]
  },
  {
   "cell_type": "code",
   "execution_count": 169,
   "id": "informed-ethiopia",
   "metadata": {},
   "outputs": [],
   "source": [
    "lookup_table, image = input_data.split(\"\\n\\n\")\n",
    "lookup_table = np.fromiter(map(int, lookup_table.replace(\"\\n\", \"\").replace(\"#\", \"1\").replace(\".\", \"0\")), int)\n",
    "assert len(lookup_table) == 512"
   ]
  },
  {
   "cell_type": "code",
   "execution_count": 170,
   "id": "alpine-bishop",
   "metadata": {},
   "outputs": [],
   "source": [
    "image = image.replace(\"\\n\", \"\").replace(\"#\", \"1\").replace(\".\", \"0\")\n",
    "image = np.fromiter(map(int, image), int).reshape(int(len(image) ** 0.5), -1)"
   ]
  },
  {
   "cell_type": "code",
   "execution_count": 171,
   "id": "confident-lambda",
   "metadata": {},
   "outputs": [],
   "source": [
    "kernel = 2**(8 - np.arange(9)).reshape(3, 3)\n",
    "def enhance(image, fillvalue=0):\n",
    "    lookup_indices = correlate2d(image, kernel, mode=\"full\", fillvalue=fillvalue)\n",
    "    return np.take(lookup_table, lookup_indices)"
   ]
  },
  {
   "cell_type": "code",
   "execution_count": 172,
   "id": "classical-liability",
   "metadata": {},
   "outputs": [],
   "source": [
    "result_image = enhance(enhance(image), fillvalue=lookup_table[0])"
   ]
  },
  {
   "cell_type": "code",
   "execution_count": 173,
   "id": "urban-capital",
   "metadata": {},
   "outputs": [
    {
     "data": {
      "text/plain": [
       "5479"
      ]
     },
     "execution_count": 173,
     "metadata": {},
     "output_type": "execute_result"
    }
   ],
   "source": [
    "result = result_image.sum()\n",
    "result"
   ]
  },
  {
   "cell_type": "code",
   "execution_count": 174,
   "id": "popular-basement",
   "metadata": {},
   "outputs": [
    {
     "name": "stdout",
     "output_type": "stream",
     "text": [
      "\u001b[32mThat's the right answer!  You are one gold star closer to finding the sleigh keys. [Continue to Part Two]\u001b[0m\n"
     ]
    }
   ],
   "source": [
    "puzzle.answer_a = result"
   ]
  },
  {
   "cell_type": "markdown",
   "id": "changing-norway",
   "metadata": {},
   "source": [
    "## Part 2"
   ]
  },
  {
   "cell_type": "code",
   "execution_count": 178,
   "id": "adjacent-fighter",
   "metadata": {},
   "outputs": [],
   "source": [
    "result_image = image\n",
    "for i in range(25):\n",
    "    result_image = enhance(enhance(result_image), fillvalue=lookup_table[0])"
   ]
  },
  {
   "cell_type": "code",
   "execution_count": 179,
   "id": "intense-capability",
   "metadata": {},
   "outputs": [
    {
     "data": {
      "text/plain": [
       "19012"
      ]
     },
     "execution_count": 179,
     "metadata": {},
     "output_type": "execute_result"
    }
   ],
   "source": [
    "result = result_image.sum()\n",
    "result"
   ]
  },
  {
   "cell_type": "code",
   "execution_count": 180,
   "id": "spectacular-credits",
   "metadata": {},
   "outputs": [
    {
     "name": "stdout",
     "output_type": "stream",
     "text": [
      "\u001b[32mThat's the right answer!  You are one gold star closer to finding the sleigh keys.You have completed Day 20! You can [Shareon\n",
      "  Twitter\n",
      "Mastodon] this victory or [Return to Your Advent Calendar].\u001b[0m\n"
     ]
    }
   ],
   "source": [
    "puzzle.answer_b = result"
   ]
  }
 ],
 "metadata": {
  "kernelspec": {
   "display_name": "DataScience",
   "language": "python",
   "name": "datascience"
  },
  "language_info": {
   "codemirror_mode": {
    "name": "ipython",
    "version": 3
   },
   "file_extension": ".py",
   "mimetype": "text/x-python",
   "name": "python",
   "nbconvert_exporter": "python",
   "pygments_lexer": "ipython3",
   "version": "3.9.1"
  }
 },
 "nbformat": 4,
 "nbformat_minor": 5
}
