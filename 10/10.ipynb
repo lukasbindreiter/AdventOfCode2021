{
 "cells": [
  {
   "cell_type": "code",
   "execution_count": 3,
   "id": "scheduled-greenhouse",
   "metadata": {},
   "outputs": [],
   "source": [
    "import numpy as np\n",
    "import webbrowser\n",
    "from aocd.models import Puzzle\n",
    "import re\n",
    "import itertools\n",
    "from scipy.ndimage.filters import minimum_filter\n",
    "from scipy.ndimage import label\n",
    "import matplotlib.pyplot as plt\n",
    "%matplotlib inline\n",
    "puzzle = Puzzle(year=2021, day=10)"
   ]
  },
  {
   "cell_type": "code",
   "execution_count": 4,
   "id": "second-socket",
   "metadata": {},
   "outputs": [],
   "source": [
    "webbrowser.open(puzzle.url);"
   ]
  },
  {
   "cell_type": "markdown",
   "id": "biological-climate",
   "metadata": {},
   "source": [
    "## Part 1"
   ]
  },
  {
   "cell_type": "code",
   "execution_count": 63,
   "id": "stock-geography",
   "metadata": {},
   "outputs": [],
   "source": [
    "input_data = puzzle.input_data"
   ]
  },
  {
   "cell_type": "code",
   "execution_count": 44,
   "id": "failing-publisher",
   "metadata": {},
   "outputs": [],
   "source": [
    "input_data = \"\"\"\n",
    "[({(<(())[]>[[{[]{<()<>>\n",
    "[(()[<>])]({[<{<<[]>>(\n",
    "{([(<{}[<>[]}>{[]{[(<()>\n",
    "(((({<>}<{<{<>}{[]{[]{}\n",
    "[[<[([]))<([[{}[[()]]]\n",
    "[{[{({}]{}}([{[{{{}}([]\n",
    "{<[[]]>}<{[{[{[]{()[[[]\n",
    "[<(<(<(<{}))><([]([]()\n",
    "<{([([[(<>()){}]>(<<{{\n",
    "<{([{{}}[<[[[<>{}]]]>[]]\n",
    "\"\"\".strip()"
   ]
  },
  {
   "cell_type": "code",
   "execution_count": 64,
   "id": "mental-artist",
   "metadata": {},
   "outputs": [],
   "source": [
    "lines = input_data.split()"
   ]
  },
  {
   "cell_type": "code",
   "execution_count": 65,
   "id": "therapeutic-wichita",
   "metadata": {},
   "outputs": [],
   "source": [
    "def check_syntax(line):\n",
    "    openings = {\"(\": \")\", \"[\": \"]\", \"<\": \">\", \"{\": \"}\"}\n",
    "    stack = []\n",
    "    for char in line:\n",
    "        if char in openings:\n",
    "            stack.append(char)\n",
    "        elif len(stack) == 0:\n",
    "            return -1  # too many closing chars\n",
    "        elif openings[stack[-1]] == char:\n",
    "            stack.pop()\n",
    "        else:\n",
    "            return char  # illegal character\n",
    "    return len(stack)  # incomplete"
   ]
  },
  {
   "cell_type": "code",
   "execution_count": 66,
   "id": "public-discipline",
   "metadata": {},
   "outputs": [
    {
     "data": {
      "text/plain": [
       "240123"
      ]
     },
     "execution_count": 66,
     "metadata": {},
     "output_type": "execute_result"
    }
   ],
   "source": [
    "scores = {\")\": 3, \"]\": 57, \"}\": 1197, \">\": 25137}\n",
    "result = 0\n",
    "for line in lines:\n",
    "    r = check_syntax(line)\n",
    "    if r in scores:\n",
    "        result += scores[r]\n",
    "result"
   ]
  },
  {
   "cell_type": "code",
   "execution_count": 38,
   "id": "focused-absolute",
   "metadata": {},
   "outputs": [
    {
     "name": "stdout",
     "output_type": "stream",
     "text": [
      "\u001b[32mThat's the right answer!  You are one gold star closer to finding the sleigh keys. [Continue to Part Two]\u001b[0m\n"
     ]
    }
   ],
   "source": [
    "puzzle.answer_a = result"
   ]
  },
  {
   "cell_type": "markdown",
   "id": "pediatric-politics",
   "metadata": {},
   "source": [
    "## Part 2"
   ]
  },
  {
   "cell_type": "code",
   "execution_count": 67,
   "id": "constitutional-green",
   "metadata": {},
   "outputs": [],
   "source": [
    "incomplete_lines = [line for line in lines if isinstance(check_syntax(line), int)]"
   ]
  },
  {
   "cell_type": "code",
   "execution_count": 69,
   "id": "continuing-storage",
   "metadata": {},
   "outputs": [],
   "source": [
    "def complete(line):\n",
    "    openings = {\"(\": \")\", \"[\": \"]\", \"<\": \">\", \"{\": \"}\"}\n",
    "    stack = []\n",
    "    for char in line:\n",
    "        if char in openings:\n",
    "            stack.append(char)\n",
    "        elif len(stack) == 0:\n",
    "            return -1  # too many closing chars\n",
    "        elif openings[stack[-1]] == char:\n",
    "            stack.pop()\n",
    "        else:\n",
    "            return char  # illegal character\n",
    "    return [openings[ch] for ch in stack[::-1]]"
   ]
  },
  {
   "cell_type": "code",
   "execution_count": 71,
   "id": "irish-applicant",
   "metadata": {},
   "outputs": [],
   "source": [
    "scores = []\n",
    "scores_table = {\")\": 1, \"]\": 2, \"}\": 3, \">\": 4}\n",
    "for line in incomplete_lines:\n",
    "    completion = complete(line)\n",
    "    curr_score = 0\n",
    "    for char in completion:\n",
    "        curr_score *= 5\n",
    "        curr_score += scores_table[char]\n",
    "    scores.append(curr_score)"
   ]
  },
  {
   "cell_type": "code",
   "execution_count": 72,
   "id": "protected-talent",
   "metadata": {},
   "outputs": [
    {
     "data": {
      "text/plain": [
       "3260812321"
      ]
     },
     "execution_count": 72,
     "metadata": {},
     "output_type": "execute_result"
    }
   ],
   "source": [
    "result = int(np.median(scores))\n",
    "result"
   ]
  },
  {
   "cell_type": "code",
   "execution_count": 73,
   "id": "tutorial-mexican",
   "metadata": {},
   "outputs": [
    {
     "name": "stdout",
     "output_type": "stream",
     "text": [
      "\u001b[32mThat's the right answer!  You are one gold star closer to finding the sleigh keys.You have completed Day 10! You can [Shareon\n",
      "  Twitter\n",
      "Mastodon] this victory or [Return to Your Advent Calendar].\u001b[0m\n"
     ]
    }
   ],
   "source": [
    "puzzle.answer_b = result"
   ]
  }
 ],
 "metadata": {
  "kernelspec": {
   "display_name": "DataScience",
   "language": "python",
   "name": "datascience"
  },
  "language_info": {
   "codemirror_mode": {
    "name": "ipython",
    "version": 3
   },
   "file_extension": ".py",
   "mimetype": "text/x-python",
   "name": "python",
   "nbconvert_exporter": "python",
   "pygments_lexer": "ipython3",
   "version": "3.9.1"
  }
 },
 "nbformat": 4,
 "nbformat_minor": 5
}
