{
 "cells": [
  {
   "cell_type": "code",
   "execution_count": 53,
   "id": "early-trash",
   "metadata": {},
   "outputs": [],
   "source": [
    "import numpy as np\n",
    "import webbrowser\n",
    "from aocd.models import Puzzle\n",
    "import re\n",
    "import itertools\n",
    "from scipy.ndimage.filters import minimum_filter\n",
    "from scipy.ndimage import label\n",
    "import matplotlib.pyplot as plt\n",
    "from collections import defaultdict\n",
    "import networkx as nx\n",
    "%matplotlib inline\n",
    "puzzle = Puzzle(year=2021, day=15)"
   ]
  },
  {
   "cell_type": "code",
   "execution_count": 2,
   "id": "cheap-relations",
   "metadata": {},
   "outputs": [],
   "source": [
    "webbrowser.open(puzzle.url);"
   ]
  },
  {
   "cell_type": "markdown",
   "id": "broke-pound",
   "metadata": {},
   "source": [
    "## Part 1"
   ]
  },
  {
   "cell_type": "code",
   "execution_count": 189,
   "id": "removed-naples",
   "metadata": {},
   "outputs": [],
   "source": [
    "input_data = \"\"\"\n",
    "1163751742\n",
    "1381373672\n",
    "2136511328\n",
    "3694931569\n",
    "7463417111\n",
    "1319128137\n",
    "1359912421\n",
    "3125421639\n",
    "1293138521\n",
    "2311944581\n",
    "\"\"\".strip()"
   ]
  },
  {
   "cell_type": "code",
   "execution_count": 199,
   "id": "authorized-harvest",
   "metadata": {},
   "outputs": [],
   "source": [
    "input_data = puzzle.input_data"
   ]
  },
  {
   "cell_type": "code",
   "execution_count": 200,
   "id": "median-escape",
   "metadata": {},
   "outputs": [],
   "source": [
    "matrix = np.asarray([[int(ch) for ch in line] for line in input_data.split(\"\\n\")])"
   ]
  },
  {
   "cell_type": "code",
   "execution_count": 145,
   "id": "portable-monster",
   "metadata": {},
   "outputs": [],
   "source": [
    "def get_shortest_path_lengt(matrix):\n",
    "    graph = nx.grid_2d_graph(*matrix.shape)\n",
    "    return nx.dijkstra_path_length(graph, (0, 0), (matrix.shape[0] - 1, matrix.shape[1] - 1), weight=lambda start, end, _: matrix[end])"
   ]
  },
  {
   "cell_type": "code",
   "execution_count": 146,
   "id": "fleet-frank",
   "metadata": {},
   "outputs": [
    {
     "data": {
      "text/plain": [
       "652"
      ]
     },
     "execution_count": 146,
     "metadata": {},
     "output_type": "execute_result"
    }
   ],
   "source": [
    "result = get_shortest_path_lengt(matrix)\n",
    "result"
   ]
  },
  {
   "cell_type": "code",
   "execution_count": 140,
   "id": "theoretical-bhutan",
   "metadata": {},
   "outputs": [
    {
     "name": "stdout",
     "output_type": "stream",
     "text": [
      "\u001b[32mThat's the right answer!  You are one gold star closer to finding the sleigh keys. [Continue to Part Two]\u001b[0m\n"
     ]
    }
   ],
   "source": [
    "puzzle.answer_a = result"
   ]
  },
  {
   "cell_type": "markdown",
   "id": "dangerous-meditation",
   "metadata": {},
   "source": [
    "## Part 2"
   ]
  },
  {
   "cell_type": "code",
   "execution_count": 201,
   "id": "three-newspaper",
   "metadata": {},
   "outputs": [],
   "source": [
    "n_repeats = 5\n",
    "large_matrix = np.tile(matrix, (n_repeats, n_repeats))"
   ]
  },
  {
   "cell_type": "code",
   "execution_count": 202,
   "id": "infectious-gardening",
   "metadata": {},
   "outputs": [],
   "source": [
    "offsets = np.asarray([[y+x for x in range(n_repeats)] for y in range(n_repeats) ])\n",
    "offsets = np.repeat(np.repeat(offsets, matrix.shape[0], 0), matrix.shape[1], 1)"
   ]
  },
  {
   "cell_type": "code",
   "execution_count": 203,
   "id": "collect-casting",
   "metadata": {},
   "outputs": [],
   "source": [
    "large_matrix = (large_matrix + offsets - 1) % 9 + 1"
   ]
  },
  {
   "cell_type": "code",
   "execution_count": 204,
   "id": "noble-magazine",
   "metadata": {},
   "outputs": [
    {
     "data": {
      "text/plain": [
       "2938"
      ]
     },
     "execution_count": 204,
     "metadata": {},
     "output_type": "execute_result"
    }
   ],
   "source": [
    "result = get_shortest_path_lengt(large_matrix)\n",
    "result"
   ]
  },
  {
   "cell_type": "code",
   "execution_count": 205,
   "id": "plastic-advance",
   "metadata": {},
   "outputs": [
    {
     "name": "stdout",
     "output_type": "stream",
     "text": [
      "\u001b[32mThat's the right answer!  You are one gold star closer to finding the sleigh keys.You have completed Day 15! You can [Shareon\n",
      "  Twitter\n",
      "Mastodon] this victory or [Return to Your Advent Calendar].\u001b[0m\n"
     ]
    }
   ],
   "source": [
    "puzzle.answer_b = result"
   ]
  }
 ],
 "metadata": {
  "kernelspec": {
   "display_name": "DataScience",
   "language": "python",
   "name": "datascience"
  },
  "language_info": {
   "codemirror_mode": {
    "name": "ipython",
    "version": 3
   },
   "file_extension": ".py",
   "mimetype": "text/x-python",
   "name": "python",
   "nbconvert_exporter": "python",
   "pygments_lexer": "ipython3",
   "version": "3.9.1"
  }
 },
 "nbformat": 4,
 "nbformat_minor": 5
}
