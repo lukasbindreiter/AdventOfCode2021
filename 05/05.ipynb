{
 "cells": [
  {
   "cell_type": "code",
   "execution_count": 4,
   "id": "isolated-messenger",
   "metadata": {},
   "outputs": [],
   "source": [
    "import numpy as np\n",
    "import webbrowser\n",
    "from aocd.models import Puzzle\n",
    "import re\n",
    "puzzle = Puzzle(year=2021, day=5)"
   ]
  },
  {
   "cell_type": "code",
   "execution_count": 2,
   "id": "skilled-feelings",
   "metadata": {},
   "outputs": [],
   "source": [
    "webbrowser.open(puzzle.url);"
   ]
  },
  {
   "cell_type": "markdown",
   "id": "excellent-script",
   "metadata": {},
   "source": [
    "## Part 1"
   ]
  },
  {
   "cell_type": "code",
   "execution_count": 157,
   "id": "arbitrary-syndicate",
   "metadata": {},
   "outputs": [],
   "source": [
    "input_data = \"\"\"\n",
    "0,9 -> 5,9\n",
    "8,0 -> 0,8\n",
    "9,4 -> 3,4\n",
    "2,2 -> 2,1\n",
    "7,0 -> 7,4\n",
    "6,4 -> 2,0\n",
    "0,9 -> 2,9\n",
    "3,4 -> 1,4\n",
    "0,0 -> 8,8\n",
    "5,5 -> 8,2\n",
    "\"\"\"\n",
    "input_data = puzzle.input_data"
   ]
  },
  {
   "cell_type": "code",
   "execution_count": 158,
   "id": "seventh-compatibility",
   "metadata": {},
   "outputs": [],
   "source": [
    "lines = np.asarray(re.findall(\"\\d+\", input_data)).astype(int).reshape(-1, 4)"
   ]
  },
  {
   "cell_type": "code",
   "execution_count": 161,
   "id": "radio-calibration",
   "metadata": {},
   "outputs": [],
   "source": [
    "map_ = np.zeros((1000, 1000), int)\n",
    "for x1, y1, x2, y2 in lines:\n",
    "    if x1 == x2 or y1 == y2:\n",
    "        y1, y2 = min(y1, y2), max(y1, y2)\n",
    "        x1, x2 = min(x1, x2), max(x1, x2)\n",
    "        map_[y1:y2 + 1, x1:x2 + 1] += 1"
   ]
  },
  {
   "cell_type": "code",
   "execution_count": 162,
   "id": "sustained-madness",
   "metadata": {},
   "outputs": [
    {
     "data": {
      "text/plain": [
       "4745"
      ]
     },
     "execution_count": 162,
     "metadata": {},
     "output_type": "execute_result"
    }
   ],
   "source": [
    "result = (map_ >= 2).sum()\n",
    "result"
   ]
  },
  {
   "cell_type": "code",
   "execution_count": 88,
   "id": "patent-civilian",
   "metadata": {},
   "outputs": [
    {
     "name": "stdout",
     "output_type": "stream",
     "text": [
      "\u001b[32mThat's the right answer!  You are one gold star closer to finding the sleigh keys. [Continue to Part Two]\u001b[0m\n"
     ]
    }
   ],
   "source": [
    "puzzle.answer_a = result"
   ]
  },
  {
   "cell_type": "markdown",
   "id": "comprehensive-wells",
   "metadata": {},
   "source": [
    "## Part 2"
   ]
  },
  {
   "cell_type": "code",
   "execution_count": 175,
   "id": "developing-commitment",
   "metadata": {},
   "outputs": [],
   "source": [
    "map_ = np.zeros((1000, 1000), int)\n",
    "for x1, y1, x2, y2 in lines:\n",
    "    s_y, s_x = np.sign(y2 - y1) or 1, np.sign(x2 - x1) or 1\n",
    "    map_[range(y1, y2 + s_y, s_y), range(x1, x2 + s_x, s_x)] += 1"
   ]
  },
  {
   "cell_type": "code",
   "execution_count": 176,
   "id": "driven-harvard",
   "metadata": {},
   "outputs": [
    {
     "data": {
      "text/plain": [
       "18442"
      ]
     },
     "execution_count": 176,
     "metadata": {},
     "output_type": "execute_result"
    }
   ],
   "source": [
    "result = (map_ >= 2).sum()\n",
    "result"
   ]
  },
  {
   "cell_type": "code",
   "execution_count": 165,
   "id": "grateful-texture",
   "metadata": {},
   "outputs": [
    {
     "name": "stdout",
     "output_type": "stream",
     "text": [
      "\u001b[32mThat's the right answer!  You are one gold star closer to finding the sleigh keys.You have completed Day 5! You can [Shareon\n",
      "  Twitter\n",
      "Mastodon] this victory or [Return to Your Advent Calendar].\u001b[0m\n"
     ]
    }
   ],
   "source": [
    "puzzle.answer_b = result"
   ]
  }
 ],
 "metadata": {
  "kernelspec": {
   "display_name": "DataScience",
   "language": "python",
   "name": "datascience"
  },
  "language_info": {
   "codemirror_mode": {
    "name": "ipython",
    "version": 3
   },
   "file_extension": ".py",
   "mimetype": "text/x-python",
   "name": "python",
   "nbconvert_exporter": "python",
   "pygments_lexer": "ipython3",
   "version": "3.9.1"
  }
 },
 "nbformat": 4,
 "nbformat_minor": 5
}
