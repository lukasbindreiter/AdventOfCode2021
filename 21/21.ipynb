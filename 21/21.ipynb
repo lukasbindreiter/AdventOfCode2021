{
 "cells": [
  {
   "cell_type": "code",
   "execution_count": 1,
   "id": "premier-basement",
   "metadata": {},
   "outputs": [],
   "source": [
    "import numpy as np\n",
    "import webbrowser\n",
    "from aocd.models import Puzzle\n",
    "from scipy.signal import correlate2d\n",
    "import matplotlib.pyplot as plt\n",
    "from tqdm.auto import tqdm\n",
    "%matplotlib inline\n",
    "puzzle = Puzzle(year=2021, day=21)"
   ]
  },
  {
   "cell_type": "code",
   "execution_count": 2,
   "id": "desperate-recipient",
   "metadata": {},
   "outputs": [],
   "source": [
    "webbrowser.open(puzzle.url);"
   ]
  },
  {
   "cell_type": "markdown",
   "id": "female-quest",
   "metadata": {},
   "source": [
    "## Part 1"
   ]
  },
  {
   "cell_type": "code",
   "execution_count": 3,
   "id": "compatible-child",
   "metadata": {},
   "outputs": [],
   "source": [
    "input_data = \"\"\"\n",
    "Player 1 starting position: 4\n",
    "Player 2 starting position: 8\n",
    "\"\"\".strip()"
   ]
  },
  {
   "cell_type": "code",
   "execution_count": 4,
   "id": "governing-thermal",
   "metadata": {},
   "outputs": [],
   "source": [
    "input_data = puzzle.input_data"
   ]
  },
  {
   "cell_type": "code",
   "execution_count": 5,
   "id": "limited-commodity",
   "metadata": {},
   "outputs": [],
   "source": [
    "starting_positions = [int(line.split()[-1]) for line in input_data.split(\"\\n\")]"
   ]
  },
  {
   "cell_type": "code",
   "execution_count": 6,
   "id": "straight-session",
   "metadata": {},
   "outputs": [],
   "source": [
    "def take_turn(position, dice):\n",
    "    steps = 0\n",
    "    for i in range(3):\n",
    "        steps += (dice - 1) % 100 + 1\n",
    "        dice += 1\n",
    "    position = (position + steps - 1) % 10 + 1\n",
    "    return position, dice"
   ]
  },
  {
   "cell_type": "code",
   "execution_count": 7,
   "id": "possible-jordan",
   "metadata": {},
   "outputs": [],
   "source": [
    "positions = starting_positions[:]\n",
    "scores = [0, 0]\n",
    "curr_player = 0\n",
    "dice = 1\n",
    "while max(scores) < 1000:\n",
    "    positions[curr_player], dice = take_turn(positions[curr_player], dice)\n",
    "    scores[curr_player] += positions[curr_player]\n",
    "    curr_player = 1 - curr_player"
   ]
  },
  {
   "cell_type": "code",
   "execution_count": 8,
   "id": "abstract-spouse",
   "metadata": {},
   "outputs": [
    {
     "data": {
      "text/plain": [
       "805932"
      ]
     },
     "execution_count": 8,
     "metadata": {},
     "output_type": "execute_result"
    }
   ],
   "source": [
    "result = min(scores) * (dice - 1)\n",
    "result"
   ]
  },
  {
   "cell_type": "code",
   "execution_count": 56,
   "id": "offensive-hungary",
   "metadata": {},
   "outputs": [
    {
     "name": "stdout",
     "output_type": "stream",
     "text": [
      "\u001b[32mThat's the right answer!  You are one gold star closer to finding the sleigh keys. [Continue to Part Two]\u001b[0m\n"
     ]
    }
   ],
   "source": [
    "puzzle.answer_a = result"
   ]
  },
  {
   "cell_type": "markdown",
   "id": "collected-manufacturer",
   "metadata": {},
   "source": [
    "## Part 2"
   ]
  },
  {
   "cell_type": "code",
   "execution_count": 9,
   "id": "authorized-reggae",
   "metadata": {},
   "outputs": [],
   "source": [
    "from functools import cache"
   ]
  },
  {
   "cell_type": "code",
   "execution_count": 11,
   "id": "fatty-alignment",
   "metadata": {},
   "outputs": [],
   "source": [
    "from itertools import product"
   ]
  },
  {
   "cell_type": "code",
   "execution_count": 12,
   "id": "eligible-bundle",
   "metadata": {},
   "outputs": [],
   "source": [
    "@cache\n",
    "def take_turn(pos0, score0, pos1, score1, curr_player):\n",
    "    if score0 >= 21:\n",
    "        return 0, 1\n",
    "    elif score1 >= 21:\n",
    "        return 1, 1\n",
    "    \n",
    "    total_player_0_wins = 0\n",
    "    total_games = 0\n",
    "    for die1, die2, die3 in product(range(1, 4), range(1, 4), range(1, 4)):\n",
    "        if curr_player == 0:\n",
    "            new_pos = (pos0 + die1 + die2 + die3 - 1) % 10 + 1\n",
    "            n_player_0_wins, n_games = take_turn(new_pos, score0 + new_pos, pos1, score1, 1 - curr_player)\n",
    "        else:\n",
    "            new_pos = (pos1 + die1 + die2 + die3 - 1) % 10 + 1\n",
    "            n_player_0_wins, n_games = take_turn(pos0, score0, new_pos, score1 + new_pos, 1 - curr_player)\n",
    "        total_player_0_wins += n_player_0_wins\n",
    "        total_games += n_games\n",
    "    return total_player_0_wins, total_games"
   ]
  },
  {
   "cell_type": "code",
   "execution_count": 15,
   "id": "complimentary-devon",
   "metadata": {},
   "outputs": [],
   "source": [
    "player_0_wins, games = take_turn(starting_positions[0], 0, starting_positions[1], 0, 0)"
   ]
  },
  {
   "cell_type": "code",
   "execution_count": 16,
   "id": "endless-liberia",
   "metadata": {},
   "outputs": [
    {
     "data": {
      "text/plain": [
       "133029050096658"
      ]
     },
     "execution_count": 16,
     "metadata": {},
     "output_type": "execute_result"
    }
   ],
   "source": [
    "player_1_wins = games - player_0_wins\n",
    "result = max(player_0_wins, player_1_wins)\n",
    "result"
   ]
  },
  {
   "cell_type": "code",
   "execution_count": 17,
   "id": "molecular-cedar",
   "metadata": {},
   "outputs": [
    {
     "name": "stdout",
     "output_type": "stream",
     "text": [
      "\u001b[32mThat's the right answer!  You are one gold star closer to finding the sleigh keys.You have completed Day 21! You can [Shareon\n",
      "  Twitter\n",
      "Mastodon] this victory or [Return to Your Advent Calendar].\u001b[0m\n"
     ]
    }
   ],
   "source": [
    "puzzle.answer_b = result"
   ]
  }
 ],
 "metadata": {
  "kernelspec": {
   "display_name": "DataScience",
   "language": "python",
   "name": "datascience"
  },
  "language_info": {
   "codemirror_mode": {
    "name": "ipython",
    "version": 3
   },
   "file_extension": ".py",
   "mimetype": "text/x-python",
   "name": "python",
   "nbconvert_exporter": "python",
   "pygments_lexer": "ipython3",
   "version": "3.9.1"
  }
 },
 "nbformat": 4,
 "nbformat_minor": 5
}
