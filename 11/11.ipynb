{
 "cells": [
  {
   "cell_type": "code",
   "execution_count": 1,
   "id": "wanted-instrumentation",
   "metadata": {},
   "outputs": [],
   "source": [
    "import numpy as np\n",
    "import webbrowser\n",
    "from aocd.models import Puzzle\n",
    "import re\n",
    "import itertools\n",
    "from scipy.ndimage.filters import minimum_filter\n",
    "from scipy.ndimage import label\n",
    "import matplotlib.pyplot as plt\n",
    "%matplotlib inline\n",
    "puzzle = Puzzle(year=2021, day=11)"
   ]
  },
  {
   "cell_type": "code",
   "execution_count": 2,
   "id": "national-entry",
   "metadata": {},
   "outputs": [],
   "source": [
    "webbrowser.open(puzzle.url);"
   ]
  },
  {
   "cell_type": "markdown",
   "id": "higher-occasions",
   "metadata": {},
   "source": [
    "## Part 1"
   ]
  },
  {
   "cell_type": "code",
   "execution_count": 111,
   "id": "sustainable-bulgaria",
   "metadata": {},
   "outputs": [],
   "source": [
    "input_data = \"\"\"\n",
    "5483143223\n",
    "2745854711\n",
    "5264556173\n",
    "6141336146\n",
    "6357385478\n",
    "4167524645\n",
    "2176841721\n",
    "6882881134\n",
    "4846848554\n",
    "5283751526\n",
    "\"\"\".strip()"
   ]
  },
  {
   "cell_type": "code",
   "execution_count": 121,
   "id": "optional-zoning",
   "metadata": {},
   "outputs": [],
   "source": [
    "input_data = puzzle.input_data"
   ]
  },
  {
   "cell_type": "code",
   "execution_count": 128,
   "id": "planned-coordinate",
   "metadata": {},
   "outputs": [],
   "source": [
    "energy = np.asarray(re.findall(\"\\d\", input_data)).astype(int).reshape(10, 10)"
   ]
  },
  {
   "cell_type": "code",
   "execution_count": 129,
   "id": "auburn-creativity",
   "metadata": {},
   "outputs": [],
   "source": [
    "def step(energy):\n",
    "    flashes = 0\n",
    "    energy = energy + 1\n",
    "    flashing = energy > 9\n",
    "    while flashing.any():\n",
    "        flashes += flashing.sum()\n",
    "        energy *= (~flashing)  # reset flashes to 0\n",
    "        neighbours = ndimage.convolve(flashing.astype(int), weights=np.ones((3, 3), int), mode=\"constant\")\n",
    "        energy += neighbours * np.sign(energy)  # sign => once at 0, keep at 0\n",
    "        flashing = energy > 9\n",
    "    return energy, flashes"
   ]
  },
  {
   "cell_type": "code",
   "execution_count": 130,
   "id": "pressing-strap",
   "metadata": {},
   "outputs": [],
   "source": [
    "flashes = 0\n",
    "\n",
    "for i in range(100):\n",
    "    energy, n_flashes = step(energy)\n",
    "    flashes += n_flashes"
   ]
  },
  {
   "cell_type": "code",
   "execution_count": 131,
   "id": "wanted-saying",
   "metadata": {},
   "outputs": [
    {
     "data": {
      "text/plain": [
       "array([[6, 6, 6, 6, 6, 6, 6, 6, 7, 3],\n",
       "       [6, 6, 6, 6, 6, 6, 6, 6, 7, 7],\n",
       "       [8, 9, 9, 9, 9, 9, 9, 9, 9, 8],\n",
       "       [6, 8, 5, 4, 4, 4, 4, 6, 0, 0],\n",
       "       [8, 0, 8, 7, 7, 7, 7, 9, 0, 0],\n",
       "       [6, 2, 2, 1, 1, 1, 1, 3, 0, 0],\n",
       "       [5, 6, 7, 7, 7, 7, 7, 7, 7, 6],\n",
       "       [4, 4, 4, 4, 4, 4, 4, 4, 4, 4],\n",
       "       [5, 5, 4, 4, 4, 4, 4, 4, 4, 4],\n",
       "       [3, 5, 4, 4, 4, 4, 4, 4, 4, 4]])"
      ]
     },
     "execution_count": 131,
     "metadata": {},
     "output_type": "execute_result"
    }
   ],
   "source": [
    "energy"
   ]
  },
  {
   "cell_type": "code",
   "execution_count": 132,
   "id": "suitable-renewal",
   "metadata": {},
   "outputs": [
    {
     "data": {
      "text/plain": [
       "1571"
      ]
     },
     "execution_count": 132,
     "metadata": {},
     "output_type": "execute_result"
    }
   ],
   "source": [
    "flashes"
   ]
  },
  {
   "cell_type": "code",
   "execution_count": 110,
   "id": "specific-civilian",
   "metadata": {},
   "outputs": [
    {
     "name": "stdout",
     "output_type": "stream",
     "text": [
      "\u001b[32mThat's the right answer!  You are one gold star closer to finding the sleigh keys. [Continue to Part Two]\u001b[0m\n"
     ]
    }
   ],
   "source": [
    "puzzle.answer_a = flashes"
   ]
  },
  {
   "cell_type": "markdown",
   "id": "electoral-brighton",
   "metadata": {},
   "source": [
    "## Part 2"
   ]
  },
  {
   "cell_type": "code",
   "execution_count": 133,
   "id": "spoken-involvement",
   "metadata": {},
   "outputs": [],
   "source": [
    "energy = np.asarray(re.findall(\"\\d\", input_data)).astype(int).reshape(10, 10)"
   ]
  },
  {
   "cell_type": "code",
   "execution_count": 134,
   "id": "manufactured-assistant",
   "metadata": {},
   "outputs": [],
   "source": [
    "for i in range(10000):\n",
    "    if energy.sum() == 0:\n",
    "        break\n",
    "    energy, _ = step(energy)"
   ]
  },
  {
   "cell_type": "code",
   "execution_count": 135,
   "id": "bizarre-causing",
   "metadata": {},
   "outputs": [
    {
     "data": {
      "text/plain": [
       "387"
      ]
     },
     "execution_count": 135,
     "metadata": {},
     "output_type": "execute_result"
    }
   ],
   "source": [
    "i"
   ]
  },
  {
   "cell_type": "code",
   "execution_count": 125,
   "id": "designing-concrete",
   "metadata": {},
   "outputs": [
    {
     "name": "stdout",
     "output_type": "stream",
     "text": [
      "\u001b[32mThat's the right answer!  You are one gold star closer to finding the sleigh keys.You have completed Day 11! You can [Shareon\n",
      "  Twitter\n",
      "Mastodon] this victory or [Return to Your Advent Calendar].\u001b[0m\n"
     ]
    }
   ],
   "source": [
    "puzzle.answer_b = i"
   ]
  }
 ],
 "metadata": {
  "kernelspec": {
   "display_name": "DataScience",
   "language": "python",
   "name": "datascience"
  },
  "language_info": {
   "codemirror_mode": {
    "name": "ipython",
    "version": 3
   },
   "file_extension": ".py",
   "mimetype": "text/x-python",
   "name": "python",
   "nbconvert_exporter": "python",
   "pygments_lexer": "ipython3",
   "version": "3.9.1"
  }
 },
 "nbformat": 4,
 "nbformat_minor": 5
}
