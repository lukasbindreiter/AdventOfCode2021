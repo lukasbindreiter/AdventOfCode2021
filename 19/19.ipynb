{
 "cells": [
  {
   "cell_type": "code",
   "execution_count": 1,
   "id": "julian-partnership",
   "metadata": {},
   "outputs": [],
   "source": [
    "import numpy as np\n",
    "import webbrowser\n",
    "from aocd.models import Puzzle\n",
    "import re\n",
    "from dataclasses import dataclass\n",
    "import json\n",
    "from itertools import combinations\n",
    "from collections import defaultdict\n",
    "from typing import Optional\n",
    "from scipy.spatial.distance import cdist\n",
    "%matplotlib inline\n",
    "puzzle = Puzzle(year=2021, day=19)"
   ]
  },
  {
   "cell_type": "code",
   "execution_count": 3,
   "id": "biblical-guest",
   "metadata": {},
   "outputs": [],
   "source": [
    "webbrowser.open(puzzle.url);"
   ]
  },
  {
   "cell_type": "markdown",
   "id": "eligible-indianapolis",
   "metadata": {},
   "source": [
    "## Part 1"
   ]
  },
  {
   "cell_type": "code",
   "execution_count": 2,
   "id": "civil-spokesman",
   "metadata": {},
   "outputs": [],
   "source": [
    "input_data = \"\"\"\n",
    "--- scanner 0 ---\n",
    "0,2\n",
    "4,1\n",
    "3,3\n",
    "\n",
    "--- scanner 1 ---\n",
    "-1,-1\n",
    "-5,0\n",
    "-2,1\n",
    "\"\"\".strip()"
   ]
  },
  {
   "cell_type": "code",
   "execution_count": 3,
   "id": "directed-business",
   "metadata": {},
   "outputs": [],
   "source": [
    "input_data = \"\"\"\n",
    "--- scanner 0 ---\n",
    "404,-588,-901\n",
    "528,-643,409\n",
    "-838,591,734\n",
    "390,-675,-793\n",
    "-537,-823,-458\n",
    "-485,-357,347\n",
    "-345,-311,381\n",
    "-661,-816,-575\n",
    "-876,649,763\n",
    "-618,-824,-621\n",
    "553,345,-567\n",
    "474,580,667\n",
    "-447,-329,318\n",
    "-584,868,-557\n",
    "544,-627,-890\n",
    "564,392,-477\n",
    "455,729,728\n",
    "-892,524,684\n",
    "-689,845,-530\n",
    "423,-701,434\n",
    "7,-33,-71\n",
    "630,319,-379\n",
    "443,580,662\n",
    "-789,900,-551\n",
    "459,-707,401\n",
    "\n",
    "--- scanner 1 ---\n",
    "686,422,578\n",
    "605,423,415\n",
    "515,917,-361\n",
    "-336,658,858\n",
    "95,138,22\n",
    "-476,619,847\n",
    "-340,-569,-846\n",
    "567,-361,727\n",
    "-460,603,-452\n",
    "669,-402,600\n",
    "729,430,532\n",
    "-500,-761,534\n",
    "-322,571,750\n",
    "-466,-666,-811\n",
    "-429,-592,574\n",
    "-355,545,-477\n",
    "703,-491,-529\n",
    "-328,-685,520\n",
    "413,935,-424\n",
    "-391,539,-444\n",
    "586,-435,557\n",
    "-364,-763,-893\n",
    "807,-499,-711\n",
    "755,-354,-619\n",
    "553,889,-390\n",
    "\n",
    "--- scanner 2 ---\n",
    "649,640,665\n",
    "682,-795,504\n",
    "-784,533,-524\n",
    "-644,584,-595\n",
    "-588,-843,648\n",
    "-30,6,44\n",
    "-674,560,763\n",
    "500,723,-460\n",
    "609,671,-379\n",
    "-555,-800,653\n",
    "-675,-892,-343\n",
    "697,-426,-610\n",
    "578,704,681\n",
    "493,664,-388\n",
    "-671,-858,530\n",
    "-667,343,800\n",
    "571,-461,-707\n",
    "-138,-166,112\n",
    "-889,563,-600\n",
    "646,-828,498\n",
    "640,759,510\n",
    "-630,509,768\n",
    "-681,-892,-333\n",
    "673,-379,-804\n",
    "-742,-814,-386\n",
    "577,-820,562\n",
    "\n",
    "--- scanner 3 ---\n",
    "-589,542,597\n",
    "605,-692,669\n",
    "-500,565,-823\n",
    "-660,373,557\n",
    "-458,-679,-417\n",
    "-488,449,543\n",
    "-626,468,-788\n",
    "338,-750,-386\n",
    "528,-832,-391\n",
    "562,-778,733\n",
    "-938,-730,414\n",
    "543,643,-506\n",
    "-524,371,-870\n",
    "407,773,750\n",
    "-104,29,83\n",
    "378,-903,-323\n",
    "-778,-728,485\n",
    "426,699,580\n",
    "-438,-605,-362\n",
    "-469,-447,-387\n",
    "509,732,623\n",
    "647,635,-688\n",
    "-868,-804,481\n",
    "614,-800,639\n",
    "595,780,-596\n",
    "\n",
    "--- scanner 4 ---\n",
    "727,592,562\n",
    "-293,-554,779\n",
    "441,611,-461\n",
    "-714,465,-776\n",
    "-743,427,-804\n",
    "-660,-479,-426\n",
    "832,-632,460\n",
    "927,-485,-438\n",
    "408,393,-506\n",
    "466,436,-512\n",
    "110,16,151\n",
    "-258,-428,682\n",
    "-393,719,612\n",
    "-211,-452,876\n",
    "808,-476,-593\n",
    "-575,615,604\n",
    "-485,667,467\n",
    "-680,325,-822\n",
    "-627,-443,-432\n",
    "872,-547,-609\n",
    "833,512,582\n",
    "807,604,487\n",
    "839,-516,451\n",
    "891,-625,532\n",
    "-652,-548,-490\n",
    "30,-46,-14\n",
    "\"\"\".strip()"
   ]
  },
  {
   "cell_type": "code",
   "execution_count": 4,
   "id": "loaded-tattoo",
   "metadata": {},
   "outputs": [],
   "source": [
    "input_data = puzzle.input_data"
   ]
  },
  {
   "cell_type": "code",
   "execution_count": 5,
   "id": "atmospheric-primary",
   "metadata": {},
   "outputs": [],
   "source": [
    "def read_scanners(input_data):\n",
    "    scanners = input_data.split(\"\\n\\n\")\n",
    "    scanners = [s.split(\"\\n\")[1:] for s in scanners]\n",
    "    scanners = [np.asarray([np.fromiter(map(int, l.split(\",\")), int) for l in c]) for c in scanners]\n",
    "    return scanners"
   ]
  },
  {
   "cell_type": "markdown",
   "id": "unlikely-biology",
   "metadata": {},
   "source": [
    "### Rotations"
   ]
  },
  {
   "cell_type": "code",
   "execution_count": 6,
   "id": "talented-alberta",
   "metadata": {},
   "outputs": [],
   "source": [
    "scanner = read_scanners(\"\"\"\n",
    "--- scanner 0 ---\n",
    "-1,-1,1\n",
    "-2,-2,2\n",
    "-3,-3,3\n",
    "-2,-3,1\n",
    "5,6,-4\n",
    "8,0,7\n",
    "\"\"\".strip())[0]"
   ]
  },
  {
   "cell_type": "code",
   "execution_count": 7,
   "id": "forced-product",
   "metadata": {},
   "outputs": [],
   "source": [
    "x, y, z = 1, 2, 3  # don't use 0, 1, 2, since 0 can't encode a sign as well\n",
    "rotations = np.asarray([\n",
    "    # 4 rotations facing positive X\n",
    "    [x, y, z],\n",
    "    [x, -z, y],\n",
    "    [x, -y, -z],\n",
    "    [x, z, -y],\n",
    "    # 4 rotations facing negative X\n",
    "    [-x, y, -z],\n",
    "    [-x, -z, -y],\n",
    "    [-x, -y, z],\n",
    "    [-x, z, y],\n",
    "    # 4 rotations facing positive Y\n",
    "    [-y, x, z],\n",
    "    [-z, x, -y],\n",
    "    [y, x, -z],\n",
    "    [z, x, y],\n",
    "    # 4 rotations facing negative Y\n",
    "    [y, -x, z],\n",
    "    [-z, -x, y],\n",
    "    [-y, -x, -z],\n",
    "    [z, -x, -y],\n",
    "    # 4 rotations facing positive Z\n",
    "    [-z, y, x],\n",
    "    [-y, -z, x],\n",
    "    [z, -y, x],\n",
    "    [y, z, x],\n",
    "    # 4 rotations facing negative Z\n",
    "    [z, y, -x],\n",
    "    [y, -z, -x],\n",
    "    [-z, -y, -x],\n",
    "    [-y, z, -x],\n",
    "])\n",
    "assert len(rotations) == 24"
   ]
  },
  {
   "cell_type": "code",
   "execution_count": 8,
   "id": "victorian-channel",
   "metadata": {},
   "outputs": [],
   "source": [
    "def rotate(points, rotation):\n",
    "    # make use more convenient for just a single point\n",
    "    single_point = False\n",
    "    if points.ndim == 1:\n",
    "        single_point = True\n",
    "        points = points[np.newaxis, :]\n",
    "    rotated = np.zeros_like(points)\n",
    "    signed = points * np.sign(rotation)\n",
    "    axes_order = np.abs(rotation) - 1  # revert to zero indexing\n",
    "    rotated[:, 0] = signed[:, axes_order[0]]\n",
    "    rotated[:, 1] = signed[:, axes_order[1]]\n",
    "    rotated[:, 2] = signed[:, axes_order[2]]\n",
    "    if single_point:\n",
    "        return rotated[0]\n",
    "    return rotated\n",
    "\n",
    "def inverse_rotate(points, rotation):\n",
    "    # make use more convenient for just a single point\n",
    "    single_point = False\n",
    "    if points.ndim == 1:\n",
    "        single_point = True\n",
    "        points = points[np.newaxis, :]\n",
    "    axes_order = np.abs(rotation) - 1  # revert to zero indexing\n",
    "    rotated = np.zeros_like(points)\n",
    "    rotated[:, axes_order[0]] = points[:, 0]\n",
    "    rotated[:, axes_order[1]] = points[:, 1]\n",
    "    rotated[:, axes_order[2]] = points[:, 2]\n",
    "    rotated = rotated * np.sign(rotation)\n",
    "    if single_point:\n",
    "        return rotated[0]\n",
    "    return rotated\n",
    "\n",
    "def all_rotations(points):\n",
    "    for rotation in rotations:\n",
    "        yield rotate(points, rotation), rotation"
   ]
  },
  {
   "cell_type": "code",
   "execution_count": 9,
   "id": "focused-headquarters",
   "metadata": {},
   "outputs": [],
   "source": [
    "scanners = read_scanners(input_data)"
   ]
  },
  {
   "cell_type": "code",
   "execution_count": 10,
   "id": "amended-philip",
   "metadata": {},
   "outputs": [],
   "source": [
    "def calc_pairwise_point_differences(points):\n",
    "    # calculate the difference between each pair of points\n",
    "    diffs = {}\n",
    "    for i, j in combinations(range(len(points)), 2):\n",
    "        diff = tuple(points[i] - points[j])\n",
    "        diffs[diff] = (i, j)\n",
    "    # diffs is a mapping from a 3-tuple (dx, dy, dz) to indices of the two points where this difference occurs\n",
    "    return diffs"
   ]
  },
  {
   "cell_type": "code",
   "execution_count": 11,
   "id": "alien-payroll",
   "metadata": {},
   "outputs": [],
   "source": [
    "known_rotations = {\n",
    "    0: rotations[0]  # we define scanner 0 as the base rotation. Then this dict will later contain the rotation we need to apply to every scanner to rotate it the same way as scanner 0\n",
    "}\n",
    "\n",
    "known_positions = {\n",
    "    0: np.zeros(3, int),  # known positions of all scanners relative to scanner 0\n",
    "}"
   ]
  },
  {
   "cell_type": "code",
   "execution_count": 106,
   "id": "center-briefing",
   "metadata": {},
   "outputs": [],
   "source": [
    "def find_matching_beacons(scanner0, scanner1):\n",
    "    points0 = rotate(scanners[scanner0], known_rotations[scanner0])  # always rotate all the points to the rotation of scanner 0\n",
    "    diffs0 = calc_pairwise_point_differences(points0)\n",
    "    for points1, rotation in all_rotations(scanners[scanner1]):\n",
    "        diffs1 = calc_pairwise_point_differences(points1)\n",
    "        # find differences that occur for both scanners:\n",
    "        match = set(diffs0.keys()) & set(diffs1.keys())\n",
    "        # based on those differences find points that occur for both scanners\n",
    "        point_mapping = {}\n",
    "        for dist in match:\n",
    "            indices_a, indices_b = diffs0[dist], diffs1[dist]\n",
    "            point_mapping[indices_a[0]] = set(indices_b)\n",
    "            point_mapping[indices_a[1]] = set(indices_b)\n",
    "\n",
    "        for dist in match:\n",
    "            indices_a, indices_b = diffs0[dist], diffs1[dist]\n",
    "            for i in range(2):\n",
    "                candidates = point_mapping[indices_a[i]]\n",
    "                if isinstance(candidates, int):  # already determined the matching point in Scanner B for this point in Scanner A\n",
    "                    continue\n",
    "                found = candidates & set(indices_b)\n",
    "                if len(found) == 1:\n",
    "                    point_mapping[indices_a[i]], = found\n",
    "        \n",
    "        if len(point_mapping) >= 5:  # should be 12, but then no overlap is found for the last 3 scanners for my input :( - but works with 5 also :D\n",
    "            i, j = next(iter(point_mapping.items()))  # we only need one point to calculate the position of scanner1 relative to scanner0\n",
    "            found_scanner = points0[i] - points1[j]  # position of scanner1 relative to scanner0\n",
    "            found_beacons = points0[list(point_mapping.keys())]\n",
    "            return found_scanner, rotation, found_beacons\n",
    "    return None, None, None"
   ]
  },
  {
   "cell_type": "code",
   "execution_count": 107,
   "id": "overhead-bench",
   "metadata": {},
   "outputs": [],
   "source": [
    "# May take a while:\n",
    "remaining = True\n",
    "while remaining:\n",
    "    remaining = set(range(len(scanners))) - known_positions.keys()  # all the scanners we still have to locate\n",
    "    for i in list(known_positions.keys()):\n",
    "        for j in remaining:\n",
    "            if i == 7 and j == 4:\n",
    "                print(\"now\")\n",
    "            found_scanner, rotation, found_beacons = find_matching_beacons(i, j)\n",
    "            if found_scanner is None:\n",
    "                continue\n",
    "            known_positions[j] = known_positions[i] + found_scanner\n",
    "            known_rotations[j] = rotation"
   ]
  },
  {
   "cell_type": "markdown",
   "id": "proprietary-static",
   "metadata": {},
   "source": [
    "#### Now we know all the scanner positions and rotations, so we can easily assemble a list of beacons"
   ]
  },
  {
   "cell_type": "code",
   "execution_count": 109,
   "id": "identified-orleans",
   "metadata": {},
   "outputs": [],
   "source": [
    "beacons = set()\n",
    "for i in range(len(scanners)):\n",
    "    if i not in known_positions:\n",
    "        continue\n",
    "    points = known_positions[i] + rotate(scanners[i], known_rotations[i])\n",
    "    for p in points:\n",
    "        beacons.add(tuple(p))"
   ]
  },
  {
   "cell_type": "code",
   "execution_count": 110,
   "id": "nearby-finding",
   "metadata": {},
   "outputs": [
    {
     "data": {
      "text/plain": [
       "353"
      ]
     },
     "execution_count": 110,
     "metadata": {},
     "output_type": "execute_result"
    }
   ],
   "source": [
    "result = len(beacons)\n",
    "result"
   ]
  },
  {
   "cell_type": "code",
   "execution_count": 111,
   "id": "conditional-marshall",
   "metadata": {},
   "outputs": [
    {
     "name": "stdout",
     "output_type": "stream",
     "text": [
      "\u001b[32mThat's the right answer!  You are one gold star closer to finding the sleigh keys. [Continue to Part Two]\u001b[0m\n"
     ]
    }
   ],
   "source": [
    "puzzle.answer_a = result"
   ]
  },
  {
   "cell_type": "markdown",
   "id": "smooth-sierra",
   "metadata": {},
   "source": [
    "## Part 2"
   ]
  },
  {
   "cell_type": "code",
   "execution_count": 117,
   "id": "great-august",
   "metadata": {},
   "outputs": [],
   "source": [
    "max_dist = -np.inf\n",
    "for scanner_a, scanner_b in combinations(known_positions.values(), 2):\n",
    "    dist = np.abs(scanner_a - scanner_b).sum()\n",
    "    if dist > max_dist:\n",
    "        max_dist = dist"
   ]
  },
  {
   "cell_type": "code",
   "execution_count": 118,
   "id": "collect-recipient",
   "metadata": {},
   "outputs": [
    {
     "data": {
      "text/plain": [
       "10832"
      ]
     },
     "execution_count": 118,
     "metadata": {},
     "output_type": "execute_result"
    }
   ],
   "source": [
    "result = max_dist\n",
    "result"
   ]
  },
  {
   "cell_type": "code",
   "execution_count": 119,
   "id": "knowing-compact",
   "metadata": {},
   "outputs": [
    {
     "name": "stdout",
     "output_type": "stream",
     "text": [
      "\u001b[32mThat's the right answer!  You are one gold star closer to finding the sleigh keys.You have completed Day 19! You can [Shareon\n",
      "  Twitter\n",
      "Mastodon] this victory or [Return to Your Advent Calendar].\u001b[0m\n"
     ]
    }
   ],
   "source": [
    "puzzle.answer_b = result"
   ]
  }
 ],
 "metadata": {
  "kernelspec": {
   "display_name": "DataScience",
   "language": "python",
   "name": "datascience"
  },
  "language_info": {
   "codemirror_mode": {
    "name": "ipython",
    "version": 3
   },
   "file_extension": ".py",
   "mimetype": "text/x-python",
   "name": "python",
   "nbconvert_exporter": "python",
   "pygments_lexer": "ipython3",
   "version": "3.9.1"
  }
 },
 "nbformat": 4,
 "nbformat_minor": 5
}
